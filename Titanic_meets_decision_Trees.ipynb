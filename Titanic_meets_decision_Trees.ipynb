{
 "cells": [
  {
   "cell_type": "markdown",
   "metadata": {},
   "source": [
    "# Titanic survival\n",
    "\n",
    "### Who will make it?\n"
   ]
  },
  {
   "cell_type": "markdown",
   "metadata": {},
   "source": [
    "This notebook is prepared for training purpose.\n",
    "\n",
    "We will explore the [Titanic survival data](https://www.kaggle.com/c/titanic) , and model the survival with decision trees.\n",
    "(see [Decision Tree course](https://www.linkedin.com/learning/machine-learning-ai-foundations-decision-trees))"
   ]
  },
  {
   "cell_type": "markdown",
   "metadata": {},
   "source": [
    "## 1. GOALS\n",
    "\n",
    " - predict survival rate of titanic passengers\n",
    " - practice decision trees\n",
    " - build a small data science project\n"
   ]
  },
  {
   "cell_type": "markdown",
   "metadata": {},
   "source": [
    "## 2. Data understanding\n",
    "\n"
   ]
  },
  {
   "cell_type": "code",
   "execution_count": 1,
   "metadata": {},
   "outputs": [
    {
     "name": "stdout",
     "output_type": "stream",
     "text": [
      "<class 'pandas.core.frame.DataFrame'>\n",
      "RangeIndex: 891 entries, 0 to 890\n",
      "Data columns (total 12 columns):\n",
      "PassengerId    891 non-null int64\n",
      "Survived       891 non-null int64\n",
      "Pclass         891 non-null int64\n",
      "Name           891 non-null object\n",
      "Sex            891 non-null object\n",
      "Age            714 non-null float64\n",
      "SibSp          891 non-null int64\n",
      "Parch          891 non-null int64\n",
      "Ticket         891 non-null object\n",
      "Fare           891 non-null float64\n",
      "Cabin          204 non-null object\n",
      "Embarked       889 non-null object\n",
      "dtypes: float64(2), int64(5), object(5)\n",
      "memory usage: 83.6+ KB\n",
      "None\n",
      "\n",
      " Embarked options:  S    644\n",
      "C    168\n",
      "Q     77\n",
      "Name: Embarked, dtype: int64\n"
     ]
    },
    {
     "data": {
      "text/html": [
       "<div>\n",
       "<style>\n",
       "    .dataframe thead tr:only-child th {\n",
       "        text-align: right;\n",
       "    }\n",
       "\n",
       "    .dataframe thead th {\n",
       "        text-align: left;\n",
       "    }\n",
       "\n",
       "    .dataframe tbody tr th {\n",
       "        vertical-align: top;\n",
       "    }\n",
       "</style>\n",
       "<table border=\"1\" class=\"dataframe\">\n",
       "  <thead>\n",
       "    <tr style=\"text-align: right;\">\n",
       "      <th></th>\n",
       "      <th>PassengerId</th>\n",
       "      <th>Survived</th>\n",
       "      <th>Pclass</th>\n",
       "      <th>Age</th>\n",
       "      <th>SibSp</th>\n",
       "      <th>Parch</th>\n",
       "      <th>Fare</th>\n",
       "    </tr>\n",
       "  </thead>\n",
       "  <tbody>\n",
       "    <tr>\n",
       "      <th>count</th>\n",
       "      <td>891.000000</td>\n",
       "      <td>891.000000</td>\n",
       "      <td>891.000000</td>\n",
       "      <td>714.000000</td>\n",
       "      <td>891.000000</td>\n",
       "      <td>891.000000</td>\n",
       "      <td>891.000000</td>\n",
       "    </tr>\n",
       "    <tr>\n",
       "      <th>mean</th>\n",
       "      <td>446.000000</td>\n",
       "      <td>0.383838</td>\n",
       "      <td>2.308642</td>\n",
       "      <td>29.699118</td>\n",
       "      <td>0.523008</td>\n",
       "      <td>0.381594</td>\n",
       "      <td>32.204208</td>\n",
       "    </tr>\n",
       "    <tr>\n",
       "      <th>std</th>\n",
       "      <td>257.353842</td>\n",
       "      <td>0.486592</td>\n",
       "      <td>0.836071</td>\n",
       "      <td>14.526497</td>\n",
       "      <td>1.102743</td>\n",
       "      <td>0.806057</td>\n",
       "      <td>49.693429</td>\n",
       "    </tr>\n",
       "    <tr>\n",
       "      <th>min</th>\n",
       "      <td>1.000000</td>\n",
       "      <td>0.000000</td>\n",
       "      <td>1.000000</td>\n",
       "      <td>0.420000</td>\n",
       "      <td>0.000000</td>\n",
       "      <td>0.000000</td>\n",
       "      <td>0.000000</td>\n",
       "    </tr>\n",
       "    <tr>\n",
       "      <th>25%</th>\n",
       "      <td>223.500000</td>\n",
       "      <td>0.000000</td>\n",
       "      <td>2.000000</td>\n",
       "      <td>20.125000</td>\n",
       "      <td>0.000000</td>\n",
       "      <td>0.000000</td>\n",
       "      <td>7.910400</td>\n",
       "    </tr>\n",
       "    <tr>\n",
       "      <th>50%</th>\n",
       "      <td>446.000000</td>\n",
       "      <td>0.000000</td>\n",
       "      <td>3.000000</td>\n",
       "      <td>28.000000</td>\n",
       "      <td>0.000000</td>\n",
       "      <td>0.000000</td>\n",
       "      <td>14.454200</td>\n",
       "    </tr>\n",
       "    <tr>\n",
       "      <th>75%</th>\n",
       "      <td>668.500000</td>\n",
       "      <td>1.000000</td>\n",
       "      <td>3.000000</td>\n",
       "      <td>38.000000</td>\n",
       "      <td>1.000000</td>\n",
       "      <td>0.000000</td>\n",
       "      <td>31.000000</td>\n",
       "    </tr>\n",
       "    <tr>\n",
       "      <th>max</th>\n",
       "      <td>891.000000</td>\n",
       "      <td>1.000000</td>\n",
       "      <td>3.000000</td>\n",
       "      <td>80.000000</td>\n",
       "      <td>8.000000</td>\n",
       "      <td>6.000000</td>\n",
       "      <td>512.329200</td>\n",
       "    </tr>\n",
       "  </tbody>\n",
       "</table>\n",
       "</div>"
      ],
      "text/plain": [
       "       PassengerId    Survived      Pclass         Age       SibSp  \\\n",
       "count   891.000000  891.000000  891.000000  714.000000  891.000000   \n",
       "mean    446.000000    0.383838    2.308642   29.699118    0.523008   \n",
       "std     257.353842    0.486592    0.836071   14.526497    1.102743   \n",
       "min       1.000000    0.000000    1.000000    0.420000    0.000000   \n",
       "25%     223.500000    0.000000    2.000000   20.125000    0.000000   \n",
       "50%     446.000000    0.000000    3.000000   28.000000    0.000000   \n",
       "75%     668.500000    1.000000    3.000000   38.000000    1.000000   \n",
       "max     891.000000    1.000000    3.000000   80.000000    8.000000   \n",
       "\n",
       "            Parch        Fare  \n",
       "count  891.000000  891.000000  \n",
       "mean     0.381594   32.204208  \n",
       "std      0.806057   49.693429  \n",
       "min      0.000000    0.000000  \n",
       "25%      0.000000    7.910400  \n",
       "50%      0.000000   14.454200  \n",
       "75%      0.000000   31.000000  \n",
       "max      6.000000  512.329200  "
      ]
     },
     "execution_count": 1,
     "metadata": {},
     "output_type": "execute_result"
    }
   ],
   "source": [
    "%matplotlib inline\n",
    "\n",
    "import pandas as pd\n",
    "import numpy as np\n",
    "import seaborn as sns\n",
    "import matplotlib.pyplot as plt\n",
    "\n",
    "\n",
    "data = pd.read_csv(\"Titanic/train.csv\")\n",
    "print(data.info())\n",
    "print(\"\\n Embarked options: \", data[\"Embarked\"].value_counts())\n",
    "\n",
    "data.describe()"
   ]
  },
  {
   "cell_type": "markdown",
   "metadata": {},
   "source": [
    "## Apply less memory-consuming data types to the data (see [Dataquest blog](https://www.dataquest.io/blog/pandas-big-data/))"
   ]
  },
  {
   "cell_type": "code",
   "execution_count": 2,
   "metadata": {},
   "outputs": [
    {
     "data": {
      "text/html": [
       "<div>\n",
       "<style>\n",
       "    .dataframe thead tr:only-child th {\n",
       "        text-align: right;\n",
       "    }\n",
       "\n",
       "    .dataframe thead th {\n",
       "        text-align: left;\n",
       "    }\n",
       "\n",
       "    .dataframe tbody tr th {\n",
       "        vertical-align: top;\n",
       "    }\n",
       "</style>\n",
       "<table border=\"1\" class=\"dataframe\">\n",
       "  <thead>\n",
       "    <tr style=\"text-align: right;\">\n",
       "      <th></th>\n",
       "      <th>PassengerId</th>\n",
       "      <th>Survived</th>\n",
       "      <th>Pclass</th>\n",
       "      <th>Name</th>\n",
       "      <th>Sex</th>\n",
       "      <th>Age</th>\n",
       "      <th>SibSp</th>\n",
       "      <th>Parch</th>\n",
       "      <th>Ticket</th>\n",
       "      <th>Fare</th>\n",
       "      <th>Cabin</th>\n",
       "      <th>Embarked</th>\n",
       "    </tr>\n",
       "  </thead>\n",
       "  <tbody>\n",
       "    <tr>\n",
       "      <th>0</th>\n",
       "      <td>1</td>\n",
       "      <td>0</td>\n",
       "      <td>3</td>\n",
       "      <td>Braund, Mr. Owen Harris</td>\n",
       "      <td>male</td>\n",
       "      <td>22.0</td>\n",
       "      <td>1</td>\n",
       "      <td>0</td>\n",
       "      <td>A/5 21171</td>\n",
       "      <td>7.2500</td>\n",
       "      <td>NaN</td>\n",
       "      <td>S</td>\n",
       "    </tr>\n",
       "    <tr>\n",
       "      <th>1</th>\n",
       "      <td>2</td>\n",
       "      <td>1</td>\n",
       "      <td>1</td>\n",
       "      <td>Cumings, Mrs. John Bradley (Florence Briggs Th...</td>\n",
       "      <td>female</td>\n",
       "      <td>38.0</td>\n",
       "      <td>1</td>\n",
       "      <td>0</td>\n",
       "      <td>PC 17599</td>\n",
       "      <td>71.2833</td>\n",
       "      <td>C85</td>\n",
       "      <td>C</td>\n",
       "    </tr>\n",
       "    <tr>\n",
       "      <th>2</th>\n",
       "      <td>3</td>\n",
       "      <td>1</td>\n",
       "      <td>3</td>\n",
       "      <td>Heikkinen, Miss. Laina</td>\n",
       "      <td>female</td>\n",
       "      <td>26.0</td>\n",
       "      <td>0</td>\n",
       "      <td>0</td>\n",
       "      <td>STON/O2. 3101282</td>\n",
       "      <td>7.9250</td>\n",
       "      <td>NaN</td>\n",
       "      <td>S</td>\n",
       "    </tr>\n",
       "    <tr>\n",
       "      <th>3</th>\n",
       "      <td>4</td>\n",
       "      <td>1</td>\n",
       "      <td>1</td>\n",
       "      <td>Futrelle, Mrs. Jacques Heath (Lily May Peel)</td>\n",
       "      <td>female</td>\n",
       "      <td>35.0</td>\n",
       "      <td>1</td>\n",
       "      <td>0</td>\n",
       "      <td>113803</td>\n",
       "      <td>53.1000</td>\n",
       "      <td>C123</td>\n",
       "      <td>S</td>\n",
       "    </tr>\n",
       "    <tr>\n",
       "      <th>4</th>\n",
       "      <td>5</td>\n",
       "      <td>0</td>\n",
       "      <td>3</td>\n",
       "      <td>Allen, Mr. William Henry</td>\n",
       "      <td>male</td>\n",
       "      <td>35.0</td>\n",
       "      <td>0</td>\n",
       "      <td>0</td>\n",
       "      <td>373450</td>\n",
       "      <td>8.0500</td>\n",
       "      <td>NaN</td>\n",
       "      <td>S</td>\n",
       "    </tr>\n",
       "  </tbody>\n",
       "</table>\n",
       "</div>"
      ],
      "text/plain": [
       "   PassengerId  Survived  Pclass  \\\n",
       "0            1         0       3   \n",
       "1            2         1       1   \n",
       "2            3         1       3   \n",
       "3            4         1       1   \n",
       "4            5         0       3   \n",
       "\n",
       "                                                Name     Sex   Age  SibSp  \\\n",
       "0                            Braund, Mr. Owen Harris    male  22.0      1   \n",
       "1  Cumings, Mrs. John Bradley (Florence Briggs Th...  female  38.0      1   \n",
       "2                             Heikkinen, Miss. Laina  female  26.0      0   \n",
       "3       Futrelle, Mrs. Jacques Heath (Lily May Peel)  female  35.0      1   \n",
       "4                           Allen, Mr. William Henry    male  35.0      0   \n",
       "\n",
       "   Parch            Ticket     Fare Cabin Embarked  \n",
       "0      0         A/5 21171   7.2500   NaN        S  \n",
       "1      0          PC 17599  71.2833   C85        C  \n",
       "2      0  STON/O2. 3101282   7.9250   NaN        S  \n",
       "3      0            113803  53.1000  C123        S  \n",
       "4      0            373450   8.0500   NaN        S  "
      ]
     },
     "execution_count": 2,
     "metadata": {},
     "output_type": "execute_result"
    }
   ],
   "source": [
    "data.head()"
   ]
  },
  {
   "cell_type": "code",
   "execution_count": 3,
   "metadata": {},
   "outputs": [
    {
     "name": "stdout",
     "output_type": "stream",
     "text": [
      "<class 'pandas.core.frame.DataFrame'>\n",
      "RangeIndex: 891 entries, 0 to 890\n",
      "Data columns (total 12 columns):\n",
      "PassengerId    891 non-null int16\n",
      "Survived       891 non-null bool\n",
      "Pclass         891 non-null category\n",
      "Name           891 non-null object\n",
      "Sex            891 non-null category\n",
      "Age            714 non-null float32\n",
      "SibSp          891 non-null int8\n",
      "Parch          891 non-null int8\n",
      "Ticket         891 non-null object\n",
      "Fare           891 non-null float32\n",
      "Cabin          204 non-null object\n",
      "Embarked       889 non-null category\n",
      "dtypes: bool(1), category(3), float32(2), int16(1), int8(2), object(3)\n",
      "memory usage: 35.2+ KB\n",
      "None\n"
     ]
    }
   ],
   "source": [
    "from sklearn.model_selection import train_test_split\n",
    "\n",
    "\n",
    "# setting up new data types\n",
    "dtypes_col       = data.columns\n",
    "dtypes_type_old  = data.dtypes\n",
    "dtypes_type      = ['int16', 'bool','category','object','category','float32','int8','int8','object','float32','object','category']\n",
    "optimized_dtypes = dict(zip(dtypes_col, dtypes_type))\n",
    "\n",
    "#read data once again with optimized columns\n",
    "data_optimized = pd.read_csv(\"Titanic/train.csv\",dtype=optimized_dtypes)\n",
    "test_optimized = pd.read_csv(\"Titanic/test.csv\",dtype=optimized_dtypes)\n",
    "\n",
    "#splitting data to train and validation\n",
    "train, valid = train_test_split(data_optimized, test_size=0.2)\n",
    "\n",
    "\n",
    "combined = {\"train\":train,\n",
    "            \"valid\":valid,\n",
    "            \"test\":test_optimized}\n",
    "\n",
    "print(data_optimized.info())\n"
   ]
  },
  {
   "cell_type": "markdown",
   "metadata": {},
   "source": [
    "<span style=\"color:green\"> Hooray! We saved more than half of the memory and the table is read properly!</span>"
   ]
  },
  {
   "cell_type": "markdown",
   "metadata": {},
   "source": [
    "## Do we have any missing data?"
   ]
  },
  {
   "cell_type": "code",
   "execution_count": 4,
   "metadata": {},
   "outputs": [
    {
     "data": {
      "text/plain": [
       "PassengerId      0\n",
       "Survived         0\n",
       "Pclass           0\n",
       "Name             0\n",
       "Sex              0\n",
       "Age            177\n",
       "SibSp            0\n",
       "Parch            0\n",
       "Ticket           0\n",
       "Fare             0\n",
       "Cabin          687\n",
       "Embarked         2\n",
       "dtype: int64"
      ]
     },
     "execution_count": 4,
     "metadata": {},
     "output_type": "execute_result"
    }
   ],
   "source": [
    "\n",
    "data_optimized.isnull().sum()"
   ]
  },
  {
   "cell_type": "markdown",
   "metadata": {},
   "source": [
    "\"Cabin\" column will not be interesting for us, because there is a lot of missing data.\n",
    "\n",
    "\"Age\" column may be important for the model, and but some of decision tree models have a mechanism for estimating missing value based on correlation with other values if possible.\n",
    "\n",
    "\n",
    "I will use [Kaggle, Anisotropic profile](https://www.kaggle.com/arthurtok/interactive-porto-insights-a-plot-ly-tutorial) to get the data analysis step by step."
   ]
  },
  {
   "cell_type": "code",
   "execution_count": 5,
   "metadata": {
    "collapsed": true
   },
   "outputs": [],
   "source": [
    "combined_cleaned = {}\n",
    "for i,data in combined.items():\n",
    "    combined_cleaned[i] = data.drop('Cabin', 1).copy()"
   ]
  },
  {
   "cell_type": "code",
   "execution_count": 6,
   "metadata": {},
   "outputs": [
    {
     "data": {
      "text/plain": [
       "<matplotlib.axes._subplots.AxesSubplot at 0x138106e0fd0>"
      ]
     },
     "execution_count": 6,
     "metadata": {},
     "output_type": "execute_result"
    },
    {
     "data": {
      "image/png": "[encoded data removed]",
      "text/plain": [
       "<matplotlib.figure.Figure at 0x1380c1c77b8>"
      ]
     },
     "metadata": {},
     "output_type": "display_data"
    }
   ],
   "source": [
    "#numerical features\n",
    "\n",
    "train_numeric = combined_cleaned[\"train\"].select_dtypes(include=['float32','int16','int8','bool'])\n",
    "\n",
    "colormap = plt.cm.cubehelix_r\n",
    "plt.figure(figsize=(16,12))\n",
    "\n",
    "plt.title('Pearson correlation of numeric features', y=1.05, size=15)\n",
    "sns.heatmap(train_numeric.corr(),linewidths=0.1,vmax=1.0, square=True, cmap=colormap, linecolor='white', annot=True)"
   ]
  },
  {
   "cell_type": "markdown",
   "metadata": {},
   "source": [
    "Two interesting correlations are:\n",
    " - positive (0.41) for \"SibSp\" and \"Parch\"\n",
    " - negative  (-0.31) for \"SibSp\" and \"Age\""
   ]
  },
  {
   "cell_type": "code",
   "execution_count": 7,
   "metadata": {
    "scrolled": true
   },
   "outputs": [
    {
     "data": {
      "image/png": "[encoded data removed]",
      "text/plain": [
       "<matplotlib.figure.Figure at 0x1381207ca90>"
      ]
     },
     "metadata": {},
     "output_type": "display_data"
    }
   ],
   "source": [
    "# category features\n",
    "\n",
    "#we do not count NaN categories\n",
    "def survived_percent(categories,column):\n",
    "    survived_list = []\n",
    "    for c in categories.dropna():\n",
    "        count = combined_cleaned[\"train\"][combined_cleaned[\"train\"][column] == c][column].count()\n",
    "        survived = combined_cleaned[\"train\"][combined_cleaned[\"train\"][column] == c][\"Survived\"].sum()/count\n",
    "        survived_list.append(survived)\n",
    "    return survived_list    \n",
    "   \n",
    "category_features_list = [\"Sex\", \"Embarked\",\"Pclass\"]\n",
    "category_features = {}\n",
    "\n",
    "for x in category_features_list:\n",
    "    unique_values = combined_cleaned[\"train\"][x].unique().dropna()\n",
    "    survived = survived_percent(unique_values,x)\n",
    "    category_features[x] = [unique_values, survived]\n",
    "\n",
    "\n",
    "fig, axs = plt.subplots(1, 3, figsize=(18, 4), sharey=True)\n",
    "cb_dark_blue = (0/255,107/255,164/255)\n",
    "cb_orange = (255/255, 128/255, 14/255)\n",
    "cb_grey = (89/255, 89/255, 89/255)\n",
    "color=[cb_dark_blue,cb_orange,cb_grey]\n",
    "\n",
    "font_dict = {'fontsize':20, \n",
    "             'fontweight':'bold',\n",
    "             'color':\"white\"}\n",
    "\n",
    "for i,cat in enumerate(category_features.keys()):\n",
    "    number_categories = len(category_features[cat][0])\n",
    "    axs[i].bar(range(number_categories), category_features[cat][1], color=color[:number_categories])\n",
    "    axs[i].set_title(\"Survival rate \" + cat ,fontsize=20, fontweight='bold' )\n",
    "    for j,indx in enumerate(category_features[cat][1]):\n",
    "        label_text = category_features[cat][0][j]\n",
    "        x = j\n",
    "        y = indx\n",
    "        axs[i].annotate(label_text, xy = (x-0.15 ,y/2), **font_dict )\n",
    "\n",
    "for i in range(3):\n",
    "    axs[i].tick_params(\n",
    "        axis='x',          # changes apply to the x-axis\n",
    "        which='both',      # both major and minor ticks are affected\n",
    "        bottom='off',      # ticks along the bottom edge are off\n",
    "        top='off',         # ticks along the top edge are off\n",
    "        labelbottom='off') # labels along the bottom edge are off\n",
    "    axs[i].patch.set_visible(False)\n",
    "\n",
    "\n"
   ]
  },
  {
   "cell_type": "markdown",
   "metadata": {
    "collapsed": true
   },
   "source": [
    "Gender is a key factor insurvival rate."
   ]
  },
  {
   "cell_type": "markdown",
   "metadata": {},
   "source": [
    "## 3. Filling missing data"
   ]
  },
  {
   "cell_type": "markdown",
   "metadata": {},
   "source": [
    "For \"Embarked\" colum we will use most popular category which is \"S\", because there are only 2 records missing.\n",
    "\n",
    "For \"Age\" column as a first attempt we will use age distribution $F_{Age}$ known from the rest of the data and generate random number from it. "
   ]
  },
  {
   "cell_type": "code",
   "execution_count": 8,
   "metadata": {
    "collapsed": true
   },
   "outputs": [],
   "source": [
    "# filling NaN in \"Embarked\" and \"Fare\"\n",
    "\n",
    "for i,data in combined_cleaned.items():\n",
    "    data[\"Embarked\"].fillna(value=\"S\",inplace=True) # S is most popular value \n",
    "    mean_Fare = data[\"Fare\"].mean()\n",
    "    data[\"Fare\"].fillna(value=mean_Fare,inplace=True)"
   ]
  },
  {
   "cell_type": "code",
   "execution_count": 9,
   "metadata": {},
   "outputs": [
    {
     "data": {
      "image/png": "[encoded data removed]",
      "text/plain": [
       "<matplotlib.figure.Figure at 0x13811fdde48>"
      ]
     },
     "metadata": {},
     "output_type": "display_data"
    }
   ],
   "source": [
    "# filling NaN in \"Age\" \n",
    "fig, ax = plt.subplots( figsize=(6,4))\n",
    "x = combined_cleaned[\"train\"][\"Age\"].dropna()\n",
    "hist, bins = np.histogram( x,bins=15)\n",
    "\n",
    "#plot of histogram\n",
    "ax.hist(x, normed=True, color='grey')\n",
    "ax.set_title('Age histogram')\n",
    "plt.show()\n"
   ]
  },
  {
   "cell_type": "code",
   "execution_count": 10,
   "metadata": {
    "collapsed": true
   },
   "outputs": [],
   "source": [
    "from random import choices\n",
    "\n",
    "bin_centers = 0.5*(bins[:len(bins)-1]+bins[1:])\n",
    "probabilities = hist/hist.sum()\n",
    "\n",
    "#dictionary with random numbers from existing age distribution\n",
    "for i,data in combined_cleaned.items():\n",
    "    data[\"Age_rand\"] = data[\"Age\"].apply(lambda v: np.random.choice(bin_centers, p=probabilities))\n",
    "    Age_null_list   = data[data[\"Age\"].isnull()].index\n",
    "    \n",
    "    data.loc[Age_null_list,\"Age\"] = data.loc[Age_null_list,\"Age_rand\"]\n",
    "    "
   ]
  },
  {
   "cell_type": "markdown",
   "metadata": {},
   "source": []
  },
  {
   "cell_type": "code",
   "execution_count": null,
   "metadata": {
    "collapsed": true
   },
   "outputs": [],
   "source": []
  },
  {
   "cell_type": "markdown",
   "metadata": {},
   "source": [
    "## 4. Modelling"
   ]
  },
  {
   "cell_type": "markdown",
   "metadata": {
    "collapsed": true
   },
   "source": [
    "### a) C&RT decision tree\n"
   ]
  },
  {
   "cell_type": "code",
   "execution_count": 11,
   "metadata": {},
   "outputs": [],
   "source": [
    "from sklearn import preprocessing,tree\n",
    "from sklearn.model_selection import GridSearchCV\n",
    "\n",
    "tree_data = {}\n",
    "tree_data_category = {}\n",
    "\n",
    "for i,data in combined_cleaned.items():\n",
    "    tree_data[i] = data.select_dtypes(include=['float32','int16','int8']).copy()\n",
    "    tree_data_category[i] = data.select_dtypes(include=['category'])\n",
    "\n",
    "    #categorical variables handling\n",
    "    for column in tree_data_category[i].columns:\n",
    "        le = preprocessing.LabelEncoder()\n",
    "        le.fit(data[column])\n",
    "        tree_data[i][column+\"_encoded\"] = le.transform(data[column])\n"
   ]
  },
  {
   "cell_type": "code",
   "execution_count": 12,
   "metadata": {},
   "outputs": [
    {
     "name": "stdout",
     "output_type": "stream",
     "text": [
      "Tree best parameters : {'criterion': 'entropy', 'max_depth': 4, 'min_samples_leaf': 20, 'min_samples_split': 20, 'min_weight_fraction_leaf': 0.0}\n",
      "Tree best estimator : DecisionTreeClassifier(class_weight=None, criterion='entropy', max_depth=4,\n",
      "            max_features=None, max_leaf_nodes=None,\n",
      "            min_impurity_split=1e-07, min_samples_leaf=20,\n",
      "            min_samples_split=20, min_weight_fraction_leaf=0.0,\n",
      "            presort=False, random_state=None, splitter='best')\n",
      "Tree best score : 0.789325842697\n"
     ]
    }
   ],
   "source": [
    "#finding best fit with gridsearch\n",
    "param_grid = {'min_samples_leaf':np.arange(20,50,5),\n",
    "              'min_samples_split':np.arange(20,50,5),\n",
    "              'max_depth':np.arange(3,6),\n",
    "              'min_weight_fraction_leaf':np.arange(0,0.4,0.1),\n",
    "              'criterion':['gini','entropy']}\n",
    "clf = tree.DecisionTreeClassifier()\n",
    "tree_search = GridSearchCV(clf, param_grid)\n",
    "\n",
    "X =  tree_data[\"train\"]\n",
    "Y = combined_cleaned[\"train\"][\"Survived\"]\n",
    "tree_search.fit(X,Y)\n",
    "\n",
    "print(\"Tree best parameters :\",tree_search.best_params_)\n",
    "print(\"Tree best estimator :\",tree_search.best_estimator_ )\n",
    "print(\"Tree best score :\",tree_search.best_score_ )\n"
   ]
  },
  {
   "cell_type": "code",
   "execution_count": 13,
   "metadata": {},
   "outputs": [
    {
     "data": {
      "image/png": "[encoded data removed]",
      "text/plain": [
       "<matplotlib.figure.Figure at 0x13811c22e10>"
      ]
     },
     "metadata": {},
     "output_type": "display_data"
    }
   ],
   "source": [
    "tree_best_parameters = tree_search.best_params_\n",
    "tree_optimized = tree.DecisionTreeClassifier(**tree_best_parameters)\n",
    "tree_optimized.fit(X,Y)\n",
    "\n",
    "train_columns = tree_data[\"train\"].columns\n",
    "fig, ax = plt.subplots( figsize=(6,4))\n",
    "ax.bar(range(len(train_columns)),tree_optimized.feature_importances_ )\n",
    "plt.xticks(range(len(train_columns)),train_columns,rotation=90)\n",
    "ax.set_title(\"Feature importance\")\n",
    "plt.show()"
   ]
  },
  {
   "cell_type": "code",
   "execution_count": 14,
   "metadata": {},
   "outputs": [
    {
     "data": {
      "image/svg+xml": [
       "<?xml version=\"1.0\" encoding=\"UTF-8\" standalone=\"no\"?>\r\n",
       "<!DOCTYPE svg PUBLIC \"-//W3C//DTD SVG 1.1//EN\"\r\n",
       " \"http://www.w3.org/Graphics/SVG/1.1/DTD/svg11.dtd\">\r\n",
       "<!-- Generated by graphviz version 2.38.0 (20140413.2041)\r\n",
       " -->\r\n",
       "<!-- Title: Tree Pages: 1 -->\r\n",
       "<svg width=\"1380pt\" height=\"477pt\"\r\n",
       " viewBox=\"0.00 0.00 1380.00 477.00\" xmlns=\"http://www.w3.org/2000/svg\" xmlns:xlink=\"http://www.w3.org/1999/xlink\">\r\n",
       "<g id=\"graph0\" class=\"graph\" transform=\"scale(1 1) rotate(0) translate(4 473)\">\r\n",
       "<title>Tree</title>\r\n",
       "<polygon fill=\"white\" stroke=\"none\" points=\"-4,4 -4,-473 1376,-473 1376,4 -4,4\"/>\r\n",
       "<!-- 0 -->\r\n",
       "<g id=\"node1\" class=\"node\"><title>0</title>\r\n",
       "<path fill=\"#e58139\" fill-opacity=\"0.356863\" stroke=\"black\" d=\"M800,-469C800,-469 683,-469 683,-469 677,-469 671,-463 671,-457 671,-457 671,-413 671,-413 671,-407 677,-401 683,-401 683,-401 800,-401 800,-401 806,-401 812,-407 812,-413 812,-413 812,-457 812,-457 812,-463 806,-469 800,-469\"/>\r\n",
       "<text text-anchor=\"start\" x=\"679\" y=\"-453.8\" font-family=\"Helvetica,sans-Serif\" font-size=\"14.00\">Sex_encoded ≤ 0.5</text>\r\n",
       "<text text-anchor=\"start\" x=\"691.5\" y=\"-438.8\" font-family=\"Helvetica,sans-Serif\" font-size=\"14.00\">entropy = 0.966</text>\r\n",
       "<text text-anchor=\"start\" x=\"694\" y=\"-423.8\" font-family=\"Helvetica,sans-Serif\" font-size=\"14.00\">samples = 712</text>\r\n",
       "<text text-anchor=\"start\" x=\"684.5\" y=\"-408.8\" font-family=\"Helvetica,sans-Serif\" font-size=\"14.00\">value = [433, 279]</text>\r\n",
       "</g>\r\n",
       "<!-- 1 -->\r\n",
       "<g id=\"node2\" class=\"node\"><title>1</title>\r\n",
       "<path fill=\"#399de5\" fill-opacity=\"0.650980\" stroke=\"black\" d=\"M723,-365C723,-365 588,-365 588,-365 582,-365 576,-359 576,-353 576,-353 576,-309 576,-309 576,-303 582,-297 588,-297 588,-297 723,-297 723,-297 729,-297 735,-303 735,-309 735,-309 735,-353 735,-353 735,-359 729,-365 723,-365\"/>\r\n",
       "<text text-anchor=\"start\" x=\"584\" y=\"-349.8\" font-family=\"Helvetica,sans-Serif\" font-size=\"14.00\">Pclass_encoded ≤ 1.5</text>\r\n",
       "<text text-anchor=\"start\" x=\"601\" y=\"-334.8\" font-family=\"Helvetica,sans-Serif\" font-size=\"14.00\">entropy = 0.8232</text>\r\n",
       "<text text-anchor=\"start\" x=\"608\" y=\"-319.8\" font-family=\"Helvetica,sans-Serif\" font-size=\"14.00\">samples = 260</text>\r\n",
       "<text text-anchor=\"start\" x=\"602.5\" y=\"-304.8\" font-family=\"Helvetica,sans-Serif\" font-size=\"14.00\">value = [67, 193]</text>\r\n",
       "</g>\r\n",
       "<!-- 0&#45;&gt;1 -->\r\n",
       "<g id=\"edge1\" class=\"edge\"><title>0&#45;&gt;1</title>\r\n",
       "<path fill=\"none\" stroke=\"black\" d=\"M713.578,-400.884C706.068,-391.976 697.855,-382.235 690.032,-372.957\"/>\r\n",
       "<polygon fill=\"black\" stroke=\"black\" points=\"692.698,-370.689 683.576,-365.299 687.346,-375.201 692.698,-370.689\"/>\r\n",
       "<text text-anchor=\"middle\" x=\"681.456\" y=\"-386.509\" font-family=\"Helvetica,sans-Serif\" font-size=\"14.00\">True</text>\r\n",
       "</g>\r\n",
       "<!-- 14 -->\r\n",
       "<g id=\"node15\" class=\"node\"><title>14</title>\r\n",
       "<path fill=\"#e58139\" fill-opacity=\"0.764706\" stroke=\"black\" d=\"M876.5,-365C876.5,-365 778.5,-365 778.5,-365 772.5,-365 766.5,-359 766.5,-353 766.5,-353 766.5,-309 766.5,-309 766.5,-303 772.5,-297 778.5,-297 778.5,-297 876.5,-297 876.5,-297 882.5,-297 888.5,-303 888.5,-309 888.5,-309 888.5,-353 888.5,-353 888.5,-359 882.5,-365 876.5,-365\"/>\r\n",
       "<text text-anchor=\"start\" x=\"780\" y=\"-349.8\" font-family=\"Helvetica,sans-Serif\" font-size=\"14.00\">Age ≤ 12.8417</text>\r\n",
       "<text text-anchor=\"start\" x=\"777.5\" y=\"-334.8\" font-family=\"Helvetica,sans-Serif\" font-size=\"14.00\">entropy = 0.702</text>\r\n",
       "<text text-anchor=\"start\" x=\"780\" y=\"-319.8\" font-family=\"Helvetica,sans-Serif\" font-size=\"14.00\">samples = 452</text>\r\n",
       "<text text-anchor=\"start\" x=\"774.5\" y=\"-304.8\" font-family=\"Helvetica,sans-Serif\" font-size=\"14.00\">value = [366, 86]</text>\r\n",
       "</g>\r\n",
       "<!-- 0&#45;&gt;14 -->\r\n",
       "<g id=\"edge14\" class=\"edge\"><title>0&#45;&gt;14</title>\r\n",
       "<path fill=\"none\" stroke=\"black\" d=\"M769.422,-400.884C776.932,-391.976 785.145,-382.235 792.968,-372.957\"/>\r\n",
       "<polygon fill=\"black\" stroke=\"black\" points=\"795.654,-375.201 799.424,-365.299 790.302,-370.689 795.654,-375.201\"/>\r\n",
       "<text text-anchor=\"middle\" x=\"801.544\" y=\"-386.509\" font-family=\"Helvetica,sans-Serif\" font-size=\"14.00\">False</text>\r\n",
       "</g>\r\n",
       "<!-- 2 -->\r\n",
       "<g id=\"node3\" class=\"node\"><title>2</title>\r\n",
       "<path fill=\"#399de5\" fill-opacity=\"0.937255\" stroke=\"black\" d=\"M461,-261C461,-261 360,-261 360,-261 354,-261 348,-255 348,-249 348,-249 348,-205 348,-205 348,-199 354,-193 360,-193 360,-193 461,-193 461,-193 467,-193 473,-199 473,-205 473,-205 473,-249 473,-249 473,-255 467,-261 461,-261\"/>\r\n",
       "<text text-anchor=\"start\" x=\"361.5\" y=\"-245.8\" font-family=\"Helvetica,sans-Serif\" font-size=\"14.00\">Fare ≤ 28.8563</text>\r\n",
       "<text text-anchor=\"start\" x=\"356\" y=\"-230.8\" font-family=\"Helvetica,sans-Serif\" font-size=\"14.00\">entropy = 0.3228</text>\r\n",
       "<text text-anchor=\"start\" x=\"363\" y=\"-215.8\" font-family=\"Helvetica,sans-Serif\" font-size=\"14.00\">samples = 136</text>\r\n",
       "<text text-anchor=\"start\" x=\"362\" y=\"-200.8\" font-family=\"Helvetica,sans-Serif\" font-size=\"14.00\">value = [8, 128]</text>\r\n",
       "</g>\r\n",
       "<!-- 1&#45;&gt;2 -->\r\n",
       "<g id=\"edge2\" class=\"edge\"><title>1&#45;&gt;2</title>\r\n",
       "<path fill=\"none\" stroke=\"black\" d=\"M575.956,-296.884C545.949,-284.391 512.005,-270.259 482.706,-258.061\"/>\r\n",
       "<polygon fill=\"black\" stroke=\"black\" points=\"483.944,-254.786 473.367,-254.173 481.254,-261.248 483.944,-254.786\"/>\r\n",
       "</g>\r\n",
       "<!-- 9 -->\r\n",
       "<g id=\"node10\" class=\"node\"><title>9</title>\r\n",
       "<path fill=\"#399de5\" fill-opacity=\"0.094118\" stroke=\"black\" d=\"M706,-261C706,-261 605,-261 605,-261 599,-261 593,-255 593,-249 593,-249 593,-205 593,-205 593,-199 599,-193 605,-193 605,-193 706,-193 706,-193 712,-193 718,-199 718,-205 718,-205 718,-249 718,-249 718,-255 712,-261 706,-261\"/>\r\n",
       "<text text-anchor=\"start\" x=\"614.5\" y=\"-245.8\" font-family=\"Helvetica,sans-Serif\" font-size=\"14.00\">Fare ≤ 23.35</text>\r\n",
       "<text text-anchor=\"start\" x=\"601\" y=\"-230.8\" font-family=\"Helvetica,sans-Serif\" font-size=\"14.00\">entropy = 0.9983</text>\r\n",
       "<text text-anchor=\"start\" x=\"608\" y=\"-215.8\" font-family=\"Helvetica,sans-Serif\" font-size=\"14.00\">samples = 124</text>\r\n",
       "<text text-anchor=\"start\" x=\"607\" y=\"-200.8\" font-family=\"Helvetica,sans-Serif\" font-size=\"14.00\">value = [59, 65]</text>\r\n",
       "</g>\r\n",
       "<!-- 1&#45;&gt;9 -->\r\n",
       "<g id=\"edge9\" class=\"edge\"><title>1&#45;&gt;9</title>\r\n",
       "<path fill=\"none\" stroke=\"black\" d=\"M655.5,-296.884C655.5,-288.778 655.5,-279.982 655.5,-271.472\"/>\r\n",
       "<polygon fill=\"black\" stroke=\"black\" points=\"659,-271.299 655.5,-261.299 652,-271.299 659,-271.299\"/>\r\n",
       "</g>\r\n",
       "<!-- 3 -->\r\n",
       "<g id=\"node4\" class=\"node\"><title>3</title>\r\n",
       "<path fill=\"#399de5\" fill-opacity=\"0.878431\" stroke=\"black\" d=\"M256,-157C256,-157 155,-157 155,-157 149,-157 143,-151 143,-145 143,-145 143,-101 143,-101 143,-95 149,-89 155,-89 155,-89 256,-89 256,-89 262,-89 268,-95 268,-101 268,-101 268,-145 268,-145 268,-151 262,-157 256,-157\"/>\r\n",
       "<text text-anchor=\"start\" x=\"170.5\" y=\"-141.8\" font-family=\"Helvetica,sans-Serif\" font-size=\"14.00\">Age ≤ 33.5</text>\r\n",
       "<text text-anchor=\"start\" x=\"151\" y=\"-126.8\" font-family=\"Helvetica,sans-Serif\" font-size=\"14.00\">entropy = 0.4972</text>\r\n",
       "<text text-anchor=\"start\" x=\"162\" y=\"-111.8\" font-family=\"Helvetica,sans-Serif\" font-size=\"14.00\">samples = 55</text>\r\n",
       "<text text-anchor=\"start\" x=\"161\" y=\"-96.8\" font-family=\"Helvetica,sans-Serif\" font-size=\"14.00\">value = [6, 49]</text>\r\n",
       "</g>\r\n",
       "<!-- 2&#45;&gt;3 -->\r\n",
       "<g id=\"edge3\" class=\"edge\"><title>2&#45;&gt;3</title>\r\n",
       "<path fill=\"none\" stroke=\"black\" d=\"M347.879,-194.842C325.53,-183.722 300.185,-171.111 277.135,-159.643\"/>\r\n",
       "<polygon fill=\"black\" stroke=\"black\" points=\"278.602,-156.464 268.09,-155.142 275.484,-162.731 278.602,-156.464\"/>\r\n",
       "</g>\r\n",
       "<!-- 6 -->\r\n",
       "<g id=\"node7\" class=\"node\"><title>6</title>\r\n",
       "<path fill=\"#399de5\" fill-opacity=\"0.976471\" stroke=\"black\" d=\"M459.5,-157C459.5,-157 361.5,-157 361.5,-157 355.5,-157 349.5,-151 349.5,-145 349.5,-145 349.5,-101 349.5,-101 349.5,-95 355.5,-89 361.5,-89 361.5,-89 459.5,-89 459.5,-89 465.5,-89 471.5,-95 471.5,-101 471.5,-101 471.5,-145 471.5,-145 471.5,-151 465.5,-157 459.5,-157\"/>\r\n",
       "<text text-anchor=\"start\" x=\"357.5\" y=\"-141.8\" font-family=\"Helvetica,sans-Serif\" font-size=\"14.00\">Fare ≤ 135.0667</text>\r\n",
       "<text text-anchor=\"start\" x=\"360.5\" y=\"-126.8\" font-family=\"Helvetica,sans-Serif\" font-size=\"14.00\">entropy = 0.167</text>\r\n",
       "<text text-anchor=\"start\" x=\"367\" y=\"-111.8\" font-family=\"Helvetica,sans-Serif\" font-size=\"14.00\">samples = 81</text>\r\n",
       "<text text-anchor=\"start\" x=\"366\" y=\"-96.8\" font-family=\"Helvetica,sans-Serif\" font-size=\"14.00\">value = [2, 79]</text>\r\n",
       "</g>\r\n",
       "<!-- 2&#45;&gt;6 -->\r\n",
       "<g id=\"edge6\" class=\"edge\"><title>2&#45;&gt;6</title>\r\n",
       "<path fill=\"none\" stroke=\"black\" d=\"M410.5,-192.884C410.5,-184.778 410.5,-175.982 410.5,-167.472\"/>\r\n",
       "<polygon fill=\"black\" stroke=\"black\" points=\"414,-167.299 410.5,-157.299 407,-167.299 414,-167.299\"/>\r\n",
       "</g>\r\n",
       "<!-- 4 -->\r\n",
       "<g id=\"node5\" class=\"node\"><title>4</title>\r\n",
       "<path fill=\"#399de5\" fill-opacity=\"0.937255\" stroke=\"black\" d=\"M113,-53C113,-53 12,-53 12,-53 6,-53 0,-47 0,-41 0,-41 0,-12 0,-12 0,-6 6,-0 12,-0 12,-0 113,-0 113,-0 119,-0 125,-6 125,-12 125,-12 125,-41 125,-41 125,-47 119,-53 113,-53\"/>\r\n",
       "<text text-anchor=\"start\" x=\"8\" y=\"-37.8\" font-family=\"Helvetica,sans-Serif\" font-size=\"14.00\">entropy = 0.3228</text>\r\n",
       "<text text-anchor=\"start\" x=\"19\" y=\"-22.8\" font-family=\"Helvetica,sans-Serif\" font-size=\"14.00\">samples = 34</text>\r\n",
       "<text text-anchor=\"start\" x=\"18\" y=\"-7.8\" font-family=\"Helvetica,sans-Serif\" font-size=\"14.00\">value = [2, 32]</text>\r\n",
       "</g>\r\n",
       "<!-- 3&#45;&gt;4 -->\r\n",
       "<g id=\"edge4\" class=\"edge\"><title>3&#45;&gt;4</title>\r\n",
       "<path fill=\"none\" stroke=\"black\" d=\"M155.486,-88.9485C140.674,-79.1601 124.505,-68.4756 109.866,-58.8015\"/>\r\n",
       "<polygon fill=\"black\" stroke=\"black\" points=\"111.718,-55.83 101.445,-53.2367 107.859,-61.6701 111.718,-55.83\"/>\r\n",
       "</g>\r\n",
       "<!-- 5 -->\r\n",
       "<g id=\"node6\" class=\"node\"><title>5</title>\r\n",
       "<path fill=\"#399de5\" fill-opacity=\"0.764706\" stroke=\"black\" d=\"M256,-53C256,-53 155,-53 155,-53 149,-53 143,-47 143,-41 143,-41 143,-12 143,-12 143,-6 149,-0 155,-0 155,-0 256,-0 256,-0 262,-0 268,-6 268,-12 268,-12 268,-41 268,-41 268,-47 262,-53 256,-53\"/>\r\n",
       "<text text-anchor=\"start\" x=\"151\" y=\"-37.8\" font-family=\"Helvetica,sans-Serif\" font-size=\"14.00\">entropy = 0.7025</text>\r\n",
       "<text text-anchor=\"start\" x=\"162\" y=\"-22.8\" font-family=\"Helvetica,sans-Serif\" font-size=\"14.00\">samples = 21</text>\r\n",
       "<text text-anchor=\"start\" x=\"161\" y=\"-7.8\" font-family=\"Helvetica,sans-Serif\" font-size=\"14.00\">value = [4, 17]</text>\r\n",
       "</g>\r\n",
       "<!-- 3&#45;&gt;5 -->\r\n",
       "<g id=\"edge5\" class=\"edge\"><title>3&#45;&gt;5</title>\r\n",
       "<path fill=\"none\" stroke=\"black\" d=\"M205.5,-88.9485C205.5,-80.7153 205.5,-71.848 205.5,-63.4814\"/>\r\n",
       "<polygon fill=\"black\" stroke=\"black\" points=\"209,-63.2367 205.5,-53.2367 202,-63.2367 209,-63.2367\"/>\r\n",
       "</g>\r\n",
       "<!-- 7 -->\r\n",
       "<g id=\"node8\" class=\"node\"><title>7</title>\r\n",
       "<path fill=\"#399de5\" stroke=\"black\" d=\"M379,-53C379,-53 298,-53 298,-53 292,-53 286,-47 286,-41 286,-41 286,-12 286,-12 286,-6 292,-0 298,-0 298,-0 379,-0 379,-0 385,-0 391,-6 391,-12 391,-12 391,-41 391,-41 391,-47 385,-53 379,-53\"/>\r\n",
       "<text text-anchor=\"start\" x=\"296.5\" y=\"-37.8\" font-family=\"Helvetica,sans-Serif\" font-size=\"14.00\">entropy = 0.0</text>\r\n",
       "<text text-anchor=\"start\" x=\"295\" y=\"-22.8\" font-family=\"Helvetica,sans-Serif\" font-size=\"14.00\">samples = 60</text>\r\n",
       "<text text-anchor=\"start\" x=\"294\" y=\"-7.8\" font-family=\"Helvetica,sans-Serif\" font-size=\"14.00\">value = [0, 60]</text>\r\n",
       "</g>\r\n",
       "<!-- 6&#45;&gt;7 -->\r\n",
       "<g id=\"edge7\" class=\"edge\"><title>6&#45;&gt;7</title>\r\n",
       "<path fill=\"none\" stroke=\"black\" d=\"M385.318,-88.9485C378.487,-79.9834 371.084,-70.2666 364.224,-61.2629\"/>\r\n",
       "<polygon fill=\"black\" stroke=\"black\" points=\"366.953,-59.0699 358.109,-53.2367 361.385,-63.3122 366.953,-59.0699\"/>\r\n",
       "</g>\r\n",
       "<!-- 8 -->\r\n",
       "<g id=\"node9\" class=\"node\"><title>8</title>\r\n",
       "<path fill=\"#399de5\" fill-opacity=\"0.894118\" stroke=\"black\" d=\"M522,-53C522,-53 421,-53 421,-53 415,-53 409,-47 409,-41 409,-41 409,-12 409,-12 409,-6 415,-0 421,-0 421,-0 522,-0 522,-0 528,-0 534,-6 534,-12 534,-12 534,-41 534,-41 534,-47 528,-53 522,-53\"/>\r\n",
       "<text text-anchor=\"start\" x=\"417\" y=\"-37.8\" font-family=\"Helvetica,sans-Serif\" font-size=\"14.00\">entropy = 0.4537</text>\r\n",
       "<text text-anchor=\"start\" x=\"428\" y=\"-22.8\" font-family=\"Helvetica,sans-Serif\" font-size=\"14.00\">samples = 21</text>\r\n",
       "<text text-anchor=\"start\" x=\"427\" y=\"-7.8\" font-family=\"Helvetica,sans-Serif\" font-size=\"14.00\">value = [2, 19]</text>\r\n",
       "</g>\r\n",
       "<!-- 6&#45;&gt;8 -->\r\n",
       "<g id=\"edge8\" class=\"edge\"><title>6&#45;&gt;8</title>\r\n",
       "<path fill=\"none\" stroke=\"black\" d=\"M431.835,-88.9485C437.504,-80.1664 443.638,-70.6629 449.35,-61.815\"/>\r\n",
       "<polygon fill=\"black\" stroke=\"black\" points=\"452.404,-63.5365 454.887,-53.2367 446.523,-59.7402 452.404,-63.5365\"/>\r\n",
       "</g>\r\n",
       "<!-- 10 -->\r\n",
       "<g id=\"node11\" class=\"node\"><title>10</title>\r\n",
       "<path fill=\"#399de5\" fill-opacity=\"0.372549\" stroke=\"black\" d=\"M707.5,-157C707.5,-157 549.5,-157 549.5,-157 543.5,-157 537.5,-151 537.5,-145 537.5,-145 537.5,-101 537.5,-101 537.5,-95 543.5,-89 549.5,-89 549.5,-89 707.5,-89 707.5,-89 713.5,-89 719.5,-95 719.5,-101 719.5,-101 719.5,-145 719.5,-145 719.5,-151 713.5,-157 707.5,-157\"/>\r\n",
       "<text text-anchor=\"start\" x=\"545.5\" y=\"-141.8\" font-family=\"Helvetica,sans-Serif\" font-size=\"14.00\">Embarked_encoded ≤ 1.5</text>\r\n",
       "<text text-anchor=\"start\" x=\"574\" y=\"-126.8\" font-family=\"Helvetica,sans-Serif\" font-size=\"14.00\">entropy = 0.9623</text>\r\n",
       "<text text-anchor=\"start\" x=\"581\" y=\"-111.8\" font-family=\"Helvetica,sans-Serif\" font-size=\"14.00\">samples = 101</text>\r\n",
       "<text text-anchor=\"start\" x=\"580\" y=\"-96.8\" font-family=\"Helvetica,sans-Serif\" font-size=\"14.00\">value = [39, 62]</text>\r\n",
       "</g>\r\n",
       "<!-- 9&#45;&gt;10 -->\r\n",
       "<g id=\"edge10\" class=\"edge\"><title>9&#45;&gt;10</title>\r\n",
       "<path fill=\"none\" stroke=\"black\" d=\"M646.734,-192.884C644.565,-184.689 642.209,-175.789 639.933,-167.192\"/>\r\n",
       "<polygon fill=\"black\" stroke=\"black\" points=\"643.257,-166.071 637.315,-157.299 636.49,-167.862 643.257,-166.071\"/>\r\n",
       "</g>\r\n",
       "<!-- 13 -->\r\n",
       "<g id=\"node14\" class=\"node\"><title>13</title>\r\n",
       "<path fill=\"#e58139\" fill-opacity=\"0.850980\" stroke=\"black\" d=\"M851,-149.5C851,-149.5 750,-149.5 750,-149.5 744,-149.5 738,-143.5 738,-137.5 738,-137.5 738,-108.5 738,-108.5 738,-102.5 744,-96.5 750,-96.5 750,-96.5 851,-96.5 851,-96.5 857,-96.5 863,-102.5 863,-108.5 863,-108.5 863,-137.5 863,-137.5 863,-143.5 857,-149.5 851,-149.5\"/>\r\n",
       "<text text-anchor=\"start\" x=\"746\" y=\"-134.3\" font-family=\"Helvetica,sans-Serif\" font-size=\"14.00\">entropy = 0.5586</text>\r\n",
       "<text text-anchor=\"start\" x=\"757\" y=\"-119.3\" font-family=\"Helvetica,sans-Serif\" font-size=\"14.00\">samples = 23</text>\r\n",
       "<text text-anchor=\"start\" x=\"756\" y=\"-104.3\" font-family=\"Helvetica,sans-Serif\" font-size=\"14.00\">value = [20, 3]</text>\r\n",
       "</g>\r\n",
       "<!-- 9&#45;&gt;13 -->\r\n",
       "<g id=\"edge13\" class=\"edge\"><title>9&#45;&gt;13</title>\r\n",
       "<path fill=\"none\" stroke=\"black\" d=\"M702.577,-192.884C719.619,-180.896 738.806,-167.399 755.65,-155.549\"/>\r\n",
       "<polygon fill=\"black\" stroke=\"black\" points=\"758.056,-158.136 764.222,-149.52 754.029,-152.411 758.056,-158.136\"/>\r\n",
       "</g>\r\n",
       "<!-- 11 -->\r\n",
       "<g id=\"node12\" class=\"node\"><title>11</title>\r\n",
       "<path fill=\"#399de5\" fill-opacity=\"0.627451\" stroke=\"black\" d=\"M665,-53C665,-53 564,-53 564,-53 558,-53 552,-47 552,-41 552,-41 552,-12 552,-12 552,-6 558,-0 564,-0 564,-0 665,-0 665,-0 671,-0 677,-6 677,-12 677,-12 677,-41 677,-41 677,-47 671,-53 665,-53\"/>\r\n",
       "<text text-anchor=\"start\" x=\"560\" y=\"-37.8\" font-family=\"Helvetica,sans-Serif\" font-size=\"14.00\">entropy = 0.8427</text>\r\n",
       "<text text-anchor=\"start\" x=\"571\" y=\"-22.8\" font-family=\"Helvetica,sans-Serif\" font-size=\"14.00\">samples = 48</text>\r\n",
       "<text text-anchor=\"start\" x=\"566\" y=\"-7.8\" font-family=\"Helvetica,sans-Serif\" font-size=\"14.00\">value = [13, 35]</text>\r\n",
       "</g>\r\n",
       "<!-- 10&#45;&gt;11 -->\r\n",
       "<g id=\"edge11\" class=\"edge\"><title>10&#45;&gt;11</title>\r\n",
       "<path fill=\"none\" stroke=\"black\" d=\"M623.603,-88.9485C622.37,-80.6238 621.041,-71.6509 619.789,-63.2027\"/>\r\n",
       "<polygon fill=\"black\" stroke=\"black\" points=\"623.241,-62.6158 618.313,-53.2367 616.316,-63.6417 623.241,-62.6158\"/>\r\n",
       "</g>\r\n",
       "<!-- 12 -->\r\n",
       "<g id=\"node13\" class=\"node\"><title>12</title>\r\n",
       "<path fill=\"#399de5\" fill-opacity=\"0.035294\" stroke=\"black\" d=\"M808,-53C808,-53 707,-53 707,-53 701,-53 695,-47 695,-41 695,-41 695,-12 695,-12 695,-6 701,-0 707,-0 707,-0 808,-0 808,-0 814,-0 820,-6 820,-12 820,-12 820,-41 820,-41 820,-47 814,-53 808,-53\"/>\r\n",
       "<text text-anchor=\"start\" x=\"703\" y=\"-37.8\" font-family=\"Helvetica,sans-Serif\" font-size=\"14.00\">entropy = 0.9997</text>\r\n",
       "<text text-anchor=\"start\" x=\"714\" y=\"-22.8\" font-family=\"Helvetica,sans-Serif\" font-size=\"14.00\">samples = 53</text>\r\n",
       "<text text-anchor=\"start\" x=\"709\" y=\"-7.8\" font-family=\"Helvetica,sans-Serif\" font-size=\"14.00\">value = [26, 27]</text>\r\n",
       "</g>\r\n",
       "<!-- 10&#45;&gt;12 -->\r\n",
       "<g id=\"edge12\" class=\"edge\"><title>10&#45;&gt;12</title>\r\n",
       "<path fill=\"none\" stroke=\"black\" d=\"M673.618,-88.9485C686.73,-79.3431 701.02,-68.8747 714.029,-59.345\"/>\r\n",
       "<polygon fill=\"black\" stroke=\"black\" points=\"716.369,-61.9698 722.367,-53.2367 712.232,-56.3228 716.369,-61.9698\"/>\r\n",
       "</g>\r\n",
       "<!-- 15 -->\r\n",
       "<g id=\"node16\" class=\"node\"><title>15</title>\r\n",
       "<path fill=\"#399de5\" fill-opacity=\"0.227451\" stroke=\"black\" d=\"M878,-253.5C878,-253.5 777,-253.5 777,-253.5 771,-253.5 765,-247.5 765,-241.5 765,-241.5 765,-212.5 765,-212.5 765,-206.5 771,-200.5 777,-200.5 777,-200.5 878,-200.5 878,-200.5 884,-200.5 890,-206.5 890,-212.5 890,-212.5 890,-241.5 890,-241.5 890,-247.5 884,-253.5 878,-253.5\"/>\r\n",
       "<text text-anchor=\"start\" x=\"773\" y=\"-238.3\" font-family=\"Helvetica,sans-Serif\" font-size=\"14.00\">entropy = 0.9881</text>\r\n",
       "<text text-anchor=\"start\" x=\"784\" y=\"-223.3\" font-family=\"Helvetica,sans-Serif\" font-size=\"14.00\">samples = 39</text>\r\n",
       "<text text-anchor=\"start\" x=\"779\" y=\"-208.3\" font-family=\"Helvetica,sans-Serif\" font-size=\"14.00\">value = [17, 22]</text>\r\n",
       "</g>\r\n",
       "<!-- 14&#45;&gt;15 -->\r\n",
       "<g id=\"edge15\" class=\"edge\"><title>14&#45;&gt;15</title>\r\n",
       "<path fill=\"none\" stroke=\"black\" d=\"M827.5,-296.884C827.5,-286.326 827.5,-274.597 827.5,-263.854\"/>\r\n",
       "<polygon fill=\"black\" stroke=\"black\" points=\"831,-263.52 827.5,-253.52 824,-263.52 831,-263.52\"/>\r\n",
       "</g>\r\n",
       "<!-- 16 -->\r\n",
       "<g id=\"node17\" class=\"node\"><title>16</title>\r\n",
       "<path fill=\"#e58139\" fill-opacity=\"0.815686\" stroke=\"black\" d=\"M1035,-261C1035,-261 934,-261 934,-261 928,-261 922,-255 922,-249 922,-249 922,-205 922,-205 922,-199 928,-193 934,-193 934,-193 1035,-193 1035,-193 1041,-193 1047,-199 1047,-205 1047,-205 1047,-249 1047,-249 1047,-255 1041,-261 1035,-261\"/>\r\n",
       "<text text-anchor=\"start\" x=\"935.5\" y=\"-245.8\" font-family=\"Helvetica,sans-Serif\" font-size=\"14.00\">Fare ≤ 26.2687</text>\r\n",
       "<text text-anchor=\"start\" x=\"930\" y=\"-230.8\" font-family=\"Helvetica,sans-Serif\" font-size=\"14.00\">entropy = 0.6221</text>\r\n",
       "<text text-anchor=\"start\" x=\"937\" y=\"-215.8\" font-family=\"Helvetica,sans-Serif\" font-size=\"14.00\">samples = 413</text>\r\n",
       "<text text-anchor=\"start\" x=\"931.5\" y=\"-200.8\" font-family=\"Helvetica,sans-Serif\" font-size=\"14.00\">value = [349, 64]</text>\r\n",
       "</g>\r\n",
       "<!-- 14&#45;&gt;16 -->\r\n",
       "<g id=\"edge16\" class=\"edge\"><title>14&#45;&gt;16</title>\r\n",
       "<path fill=\"none\" stroke=\"black\" d=\"M878.473,-296.884C893.356,-287.214 909.75,-276.563 925.106,-266.587\"/>\r\n",
       "<polygon fill=\"black\" stroke=\"black\" points=\"927.035,-269.508 933.514,-261.125 923.221,-263.638 927.035,-269.508\"/>\r\n",
       "</g>\r\n",
       "<!-- 17 -->\r\n",
       "<g id=\"node18\" class=\"node\"><title>17</title>\r\n",
       "<path fill=\"#e58139\" fill-opacity=\"0.898039\" stroke=\"black\" d=\"M1047.5,-157C1047.5,-157 921.5,-157 921.5,-157 915.5,-157 909.5,-151 909.5,-145 909.5,-145 909.5,-101 909.5,-101 909.5,-95 915.5,-89 921.5,-89 921.5,-89 1047.5,-89 1047.5,-89 1053.5,-89 1059.5,-95 1059.5,-101 1059.5,-101 1059.5,-145 1059.5,-145 1059.5,-151 1053.5,-157 1047.5,-157\"/>\r\n",
       "<text text-anchor=\"start\" x=\"917.5\" y=\"-141.8\" font-family=\"Helvetica,sans-Serif\" font-size=\"14.00\">PassengerId ≤ 831.0</text>\r\n",
       "<text text-anchor=\"start\" x=\"930\" y=\"-126.8\" font-family=\"Helvetica,sans-Serif\" font-size=\"14.00\">entropy = 0.4455</text>\r\n",
       "<text text-anchor=\"start\" x=\"937\" y=\"-111.8\" font-family=\"Helvetica,sans-Serif\" font-size=\"14.00\">samples = 302</text>\r\n",
       "<text text-anchor=\"start\" x=\"931.5\" y=\"-96.8\" font-family=\"Helvetica,sans-Serif\" font-size=\"14.00\">value = [274, 28]</text>\r\n",
       "</g>\r\n",
       "<!-- 16&#45;&gt;17 -->\r\n",
       "<g id=\"edge17\" class=\"edge\"><title>16&#45;&gt;17</title>\r\n",
       "<path fill=\"none\" stroke=\"black\" d=\"M984.5,-192.884C984.5,-184.778 984.5,-175.982 984.5,-167.472\"/>\r\n",
       "<polygon fill=\"black\" stroke=\"black\" points=\"988,-167.299 984.5,-157.299 981,-167.299 988,-167.299\"/>\r\n",
       "</g>\r\n",
       "<!-- 20 -->\r\n",
       "<g id=\"node21\" class=\"node\"><title>20</title>\r\n",
       "<path fill=\"#e58139\" fill-opacity=\"0.521569\" stroke=\"black\" d=\"M1229.5,-157C1229.5,-157 1103.5,-157 1103.5,-157 1097.5,-157 1091.5,-151 1091.5,-145 1091.5,-145 1091.5,-101 1091.5,-101 1091.5,-95 1097.5,-89 1103.5,-89 1103.5,-89 1229.5,-89 1229.5,-89 1235.5,-89 1241.5,-95 1241.5,-101 1241.5,-101 1241.5,-145 1241.5,-145 1241.5,-151 1235.5,-157 1229.5,-157\"/>\r\n",
       "<text text-anchor=\"start\" x=\"1099.5\" y=\"-141.8\" font-family=\"Helvetica,sans-Serif\" font-size=\"14.00\">PassengerId ≤ 408.5</text>\r\n",
       "<text text-anchor=\"start\" x=\"1116.5\" y=\"-126.8\" font-family=\"Helvetica,sans-Serif\" font-size=\"14.00\">entropy = 0.909</text>\r\n",
       "<text text-anchor=\"start\" x=\"1119\" y=\"-111.8\" font-family=\"Helvetica,sans-Serif\" font-size=\"14.00\">samples = 111</text>\r\n",
       "<text text-anchor=\"start\" x=\"1118\" y=\"-96.8\" font-family=\"Helvetica,sans-Serif\" font-size=\"14.00\">value = [75, 36]</text>\r\n",
       "</g>\r\n",
       "<!-- 16&#45;&gt;20 -->\r\n",
       "<g id=\"edge20\" class=\"edge\"><title>16&#45;&gt;20</title>\r\n",
       "<path fill=\"none\" stroke=\"black\" d=\"M1043.59,-192.884C1061.16,-183.035 1080.55,-172.169 1098.64,-162.034\"/>\r\n",
       "<polygon fill=\"black\" stroke=\"black\" points=\"1100.38,-165.067 1107.4,-157.125 1096.96,-158.961 1100.38,-165.067\"/>\r\n",
       "</g>\r\n",
       "<!-- 18 -->\r\n",
       "<g id=\"node19\" class=\"node\"><title>18</title>\r\n",
       "<path fill=\"#e58139\" fill-opacity=\"0.890196\" stroke=\"black\" d=\"M951,-53C951,-53 850,-53 850,-53 844,-53 838,-47 838,-41 838,-41 838,-12 838,-12 838,-6 844,-0 850,-0 850,-0 951,-0 951,-0 957,-0 963,-6 963,-12 963,-12 963,-41 963,-41 963,-47 957,-53 951,-53\"/>\r\n",
       "<text text-anchor=\"start\" x=\"846\" y=\"-37.8\" font-family=\"Helvetica,sans-Serif\" font-size=\"14.00\">entropy = 0.4701</text>\r\n",
       "<text text-anchor=\"start\" x=\"853\" y=\"-22.8\" font-family=\"Helvetica,sans-Serif\" font-size=\"14.00\">samples = 279</text>\r\n",
       "<text text-anchor=\"start\" x=\"847.5\" y=\"-7.8\" font-family=\"Helvetica,sans-Serif\" font-size=\"14.00\">value = [251, 28]</text>\r\n",
       "</g>\r\n",
       "<!-- 17&#45;&gt;18 -->\r\n",
       "<g id=\"edge18\" class=\"edge\"><title>17&#45;&gt;18</title>\r\n",
       "<path fill=\"none\" stroke=\"black\" d=\"M955.121,-88.9485C946.989,-79.8005 938.162,-69.8697 930.022,-60.7126\"/>\r\n",
       "<polygon fill=\"black\" stroke=\"black\" points=\"932.637,-58.3855 923.377,-53.2367 927.405,-63.0361 932.637,-58.3855\"/>\r\n",
       "</g>\r\n",
       "<!-- 19 -->\r\n",
       "<g id=\"node20\" class=\"node\"><title>19</title>\r\n",
       "<path fill=\"#e58139\" stroke=\"black\" d=\"M1074,-53C1074,-53 993,-53 993,-53 987,-53 981,-47 981,-41 981,-41 981,-12 981,-12 981,-6 987,-0 993,-0 993,-0 1074,-0 1074,-0 1080,-0 1086,-6 1086,-12 1086,-12 1086,-41 1086,-41 1086,-47 1080,-53 1074,-53\"/>\r\n",
       "<text text-anchor=\"start\" x=\"991.5\" y=\"-37.8\" font-family=\"Helvetica,sans-Serif\" font-size=\"14.00\">entropy = 0.0</text>\r\n",
       "<text text-anchor=\"start\" x=\"990\" y=\"-22.8\" font-family=\"Helvetica,sans-Serif\" font-size=\"14.00\">samples = 23</text>\r\n",
       "<text text-anchor=\"start\" x=\"989\" y=\"-7.8\" font-family=\"Helvetica,sans-Serif\" font-size=\"14.00\">value = [23, 0]</text>\r\n",
       "</g>\r\n",
       "<!-- 17&#45;&gt;19 -->\r\n",
       "<g id=\"edge19\" class=\"edge\"><title>17&#45;&gt;19</title>\r\n",
       "<path fill=\"none\" stroke=\"black\" d=\"M1001.64,-88.9485C1006.1,-80.3494 1010.91,-71.0586 1015.42,-62.3689\"/>\r\n",
       "<polygon fill=\"black\" stroke=\"black\" points=\"1018.66,-63.7254 1020.16,-53.2367 1012.44,-60.5031 1018.66,-63.7254\"/>\r\n",
       "</g>\r\n",
       "<!-- 21 -->\r\n",
       "<g id=\"node22\" class=\"node\"><title>21</title>\r\n",
       "<path fill=\"#e58139\" fill-opacity=\"0.827451\" stroke=\"black\" d=\"M1217,-53C1217,-53 1116,-53 1116,-53 1110,-53 1104,-47 1104,-41 1104,-41 1104,-12 1104,-12 1104,-6 1110,-0 1116,-0 1116,-0 1217,-0 1217,-0 1223,-0 1229,-6 1229,-12 1229,-12 1229,-41 1229,-41 1229,-47 1223,-53 1217,-53\"/>\r\n",
       "<text text-anchor=\"start\" x=\"1112\" y=\"-37.8\" font-family=\"Helvetica,sans-Serif\" font-size=\"14.00\">entropy = 0.5993</text>\r\n",
       "<text text-anchor=\"start\" x=\"1123\" y=\"-22.8\" font-family=\"Helvetica,sans-Serif\" font-size=\"14.00\">samples = 48</text>\r\n",
       "<text text-anchor=\"start\" x=\"1122\" y=\"-7.8\" font-family=\"Helvetica,sans-Serif\" font-size=\"14.00\">value = [41, 7]</text>\r\n",
       "</g>\r\n",
       "<!-- 20&#45;&gt;21 -->\r\n",
       "<g id=\"edge21\" class=\"edge\"><title>20&#45;&gt;21</title>\r\n",
       "<path fill=\"none\" stroke=\"black\" d=\"M1166.5,-88.9485C1166.5,-80.7153 1166.5,-71.848 1166.5,-63.4814\"/>\r\n",
       "<polygon fill=\"black\" stroke=\"black\" points=\"1170,-63.2367 1166.5,-53.2367 1163,-63.2367 1170,-63.2367\"/>\r\n",
       "</g>\r\n",
       "<!-- 22 -->\r\n",
       "<g id=\"node23\" class=\"node\"><title>22</title>\r\n",
       "<path fill=\"#e58139\" fill-opacity=\"0.145098\" stroke=\"black\" d=\"M1360,-53C1360,-53 1259,-53 1259,-53 1253,-53 1247,-47 1247,-41 1247,-41 1247,-12 1247,-12 1247,-6 1253,-0 1259,-0 1259,-0 1360,-0 1360,-0 1366,-0 1372,-6 1372,-12 1372,-12 1372,-41 1372,-41 1372,-47 1366,-53 1360,-53\"/>\r\n",
       "<text text-anchor=\"start\" x=\"1255\" y=\"-37.8\" font-family=\"Helvetica,sans-Serif\" font-size=\"14.00\">entropy = 0.9955</text>\r\n",
       "<text text-anchor=\"start\" x=\"1266\" y=\"-22.8\" font-family=\"Helvetica,sans-Serif\" font-size=\"14.00\">samples = 63</text>\r\n",
       "<text text-anchor=\"start\" x=\"1261\" y=\"-7.8\" font-family=\"Helvetica,sans-Serif\" font-size=\"14.00\">value = [34, 29]</text>\r\n",
       "</g>\r\n",
       "<!-- 20&#45;&gt;22 -->\r\n",
       "<g id=\"edge22\" class=\"edge\"><title>20&#45;&gt;22</title>\r\n",
       "<path fill=\"none\" stroke=\"black\" d=\"M1216.51,-88.9485C1231.33,-79.1601 1247.49,-68.4756 1262.13,-58.8015\"/>\r\n",
       "<polygon fill=\"black\" stroke=\"black\" points=\"1264.14,-61.6701 1270.55,-53.2367 1260.28,-55.83 1264.14,-61.6701\"/>\r\n",
       "</g>\r\n",
       "</g>\r\n",
       "</svg>\r\n"
      ],
      "text/plain": [
       "<graphviz.files.Source at 0x13811c2bb38>"
      ]
     },
     "execution_count": 14,
     "metadata": {},
     "output_type": "execute_result"
    }
   ],
   "source": [
    "import graphviz \n",
    "\n",
    "dot_data = tree.export_graphviz(tree_optimized, \n",
    "                                out_file=None,\n",
    "                                filled=True, \n",
    "                                rounded=True,  \n",
    "                                special_characters=True,\n",
    "                               feature_names = train_columns) \n",
    "graph = graphviz.Source(dot_data)\n",
    "graph"
   ]
  },
  {
   "cell_type": "markdown",
   "metadata": {},
   "source": [
    "### Prediction on the test set"
   ]
  },
  {
   "cell_type": "code",
   "execution_count": 15,
   "metadata": {
    "collapsed": true
   },
   "outputs": [],
   "source": [
    "prediction_values = tree_optimized.predict(tree_data[\"test\"]).astype(int)\n",
    "prediction = pd.DataFrame({\"PassengerId\":tree_data[\"test\"][\"PassengerId\"],\n",
    "                           \"Survived\":prediction_values})\n",
    "\n",
    "prediction\n",
    "prediction.to_csv(\"Titanic_tree_prediction.csv\",index=False)"
   ]
  },
  {
   "cell_type": "markdown",
   "metadata": {},
   "source": [
    "### Performance evaluation"
   ]
  },
  {
   "cell_type": "code",
   "execution_count": 29,
   "metadata": {},
   "outputs": [
    {
     "data": {
      "text/plain": [
       "array([[ 0.87068966,  0.12931034],\n",
       "       [ 0.34920635,  0.65079365]])"
      ]
     },
     "execution_count": 29,
     "metadata": {},
     "output_type": "execute_result"
    }
   ],
   "source": [
    "from sklearn.metrics import confusion_matrix\n",
    "\n",
    "evaluation = {}\n",
    "cm = {}\n",
    "\n",
    "evaluation[\"tree\"] = tree_optimized.predict(tree_data[\"valid\"]).astype(int)\n",
    "survival_from_data = combined_cleaned[\"valid\"][\"Survived\"].astype(int)\n",
    "\n",
    "cm[\"tree\"] = confusion_matrix(survival_from_data, evaluation[\"tree\"])\n",
    "cm[\"tree\"] = cm[\"tree\"].astype('float') / cm[\"tree\"].sum(axis=1)[:, np.newaxis]\n",
    "\n",
    "cm[\"tree\"]"
   ]
  },
  {
   "cell_type": "code",
   "execution_count": 31,
   "metadata": {
    "collapsed": true
   },
   "outputs": [],
   "source": [
    "import itertools\n",
    "\n",
    "def plot_confusion_matrix(cm, classes,\n",
    "                          title='Confusion matrix',\n",
    "                          cmap=plt.cm.Blues):\n",
    "    \"\"\"\n",
    "    This function prints and plots the confusion matrix.\n",
    "    Normalization can be applied by setting `normalize=True`.\n",
    "    \"\"\"\n",
    "    print(cm)\n",
    "\n",
    "    plt.imshow(cm, interpolation='nearest', cmap=cmap)\n",
    "    plt.title(title)\n",
    "    plt.colorbar()\n",
    "    tick_marks = np.arange(len(classes))\n",
    "    plt.xticks(tick_marks, classes, rotation=45)\n",
    "    plt.yticks(tick_marks, classes)\n",
    "\n",
    "    fmt = '.2f'\n",
    "    thresh = cm.max() / 2.\n",
    "    for i, j in itertools.product(range(cm.shape[0]), range(cm.shape[1])):\n",
    "        plt.text(j, i, format(cm[i, j], fmt),\n",
    "                 horizontalalignment=\"center\",\n",
    "                 color=\"white\" if cm[i, j] > thresh else \"black\")\n",
    "\n",
    "    plt.tight_layout()\n",
    "    plt.ylabel('True label')\n",
    "    plt.xlabel('Predicted label')\n"
   ]
  },
  {
   "cell_type": "code",
   "execution_count": 35,
   "metadata": {},
   "outputs": [
    {
     "name": "stdout",
     "output_type": "stream",
     "text": [
      "[[ 0.87068966  0.12931034]\n",
      " [ 0.34920635  0.65079365]]\n"
     ]
    },
    {
     "data": {
      "image/png": "[encoded data removed]",
      "text/plain": [
       "<matplotlib.figure.Figure at 0x13812807860>"
      ]
     },
     "metadata": {},
     "output_type": "display_data"
    }
   ],
   "source": [
    "# http://scikit-learn.org/stable/modules/generated/sklearn.metrics.confusion_matrix.html\n",
    "plot_confusion_matrix(cm[\"tree\"], classes=[\"No\",\"Yes\"], \n",
    "                      title='Normalized confusion matrix')\n"
   ]
  },
  {
   "cell_type": "markdown",
   "metadata": {},
   "source": [
    "### b) Into the woods - random forest\n"
   ]
  },
  {
   "cell_type": "code",
   "execution_count": 20,
   "metadata": {},
   "outputs": [
    {
     "name": "stdout",
     "output_type": "stream",
     "text": [
      "Forest best parameters : {'criterion': 'gini', 'max_depth': 5, 'min_weight_fraction_leaf': 0.0, 'n_estimators': 9}\n",
      "Forest best estimator : RandomForestClassifier(bootstrap=True, class_weight=None, criterion='gini',\n",
      "            max_depth=5, max_features='auto', max_leaf_nodes=None,\n",
      "            min_impurity_split=1e-07, min_samples_leaf=1,\n",
      "            min_samples_split=2, min_weight_fraction_leaf=0.0,\n",
      "            n_estimators=9, n_jobs=1, oob_score=False, random_state=None,\n",
      "            verbose=0, warm_start=False)\n",
      "Forest best score : 0.818820224719\n"
     ]
    }
   ],
   "source": [
    "from sklearn.ensemble import RandomForestClassifier\n",
    "\n",
    "param_grid = {'n_estimators':np.arange(3,11,2),\n",
    "              'max_depth':np.arange(3,6),\n",
    "              'min_weight_fraction_leaf':np.arange(0,0.4,0.1),\n",
    "              'criterion':['gini','entropy']}\n",
    "clf = RandomForestClassifier()\n",
    "forest_search = GridSearchCV(clf, param_grid)\n",
    "\n",
    "forest_search.fit(X,Y)\n",
    "\n",
    "print(\"Forest best parameters :\",forest_search.best_params_)\n",
    "print(\"Forest best estimator :\",forest_search.best_estimator_ )\n",
    "print(\"Forest best score :\",forest_search.best_score_ )"
   ]
  },
  {
   "cell_type": "code",
   "execution_count": 22,
   "metadata": {},
   "outputs": [
    {
     "data": {
      "text/plain": [
       "RandomForestClassifier(bootstrap=True, class_weight=None, criterion='gini',\n",
       "            max_depth=5, max_features='auto', max_leaf_nodes=None,\n",
       "            min_impurity_split=1e-07, min_samples_leaf=1,\n",
       "            min_samples_split=2, min_weight_fraction_leaf=0.0,\n",
       "            n_estimators=9, n_jobs=1, oob_score=False, random_state=None,\n",
       "            verbose=0, warm_start=False)"
      ]
     },
     "execution_count": 22,
     "metadata": {},
     "output_type": "execute_result"
    }
   ],
   "source": [
    "\n",
    "clf_forest = RandomForestClassifier(**forest_search.best_params_)\n",
    "clf_forest.fit(X,Y)"
   ]
  },
  {
   "cell_type": "code",
   "execution_count": 23,
   "metadata": {
    "collapsed": true
   },
   "outputs": [],
   "source": [
    "prediction_values_forest = clf_forest.predict(tree_data[\"test\"]).astype(int)\n",
    "prediction_forest = pd.DataFrame({\"PassengerId\":tree_data[\"test\"][\"PassengerId\"],\n",
    "                           \"Survived\":prediction_values_forest})\n",
    "\n",
    "prediction_forest.to_csv(\"Titanic_tree_prediction_forest.csv\",index=False)"
   ]
  },
  {
   "cell_type": "markdown",
   "metadata": {},
   "source": [
    "### Performance evaluation"
   ]
  },
  {
   "cell_type": "code",
   "execution_count": 34,
   "metadata": {},
   "outputs": [
    {
     "name": "stdout",
     "output_type": "stream",
     "text": [
      "[[ 0.94827586  0.05172414]\n",
      " [ 0.42857143  0.57142857]]\n"
     ]
    },
    {
     "data": {
      "image/png": "[encoded data removed]",
      "text/plain": [
       "<matplotlib.figure.Figure at 0x138107206a0>"
      ]
     },
     "metadata": {},
     "output_type": "display_data"
    }
   ],
   "source": [
    "evaluation[\"forest\"] = clf_forest.predict(tree_data[\"valid\"]).astype(int)\n",
    "\n",
    "cm[\"forest\"] = confusion_matrix(survival_from_data, evaluation[\"forest\"])\n",
    "cm[\"forest\"] = cm[\"forest\"].astype('float') / cm[\"forest\"].sum(axis=1)[:, np.newaxis]\n",
    "\n",
    "cm[\"forest\"]\n",
    "\n",
    "plot_confusion_matrix(cm[\"forest\"], classes=[\"No\",\"Yes\"], \n",
    "                      title='Normalized confusion matrix')"
   ]
  },
  {
   "cell_type": "markdown",
   "metadata": {},
   "source": [
    "## Naive Bayes"
   ]
  },
  {
   "cell_type": "code",
   "execution_count": null,
   "metadata": {},
   "outputs": [],
   "source": [
    "from sklearn.naive_bayes import GaussianNB\n",
    "gnb = GaussianNB()\n",
    "gnb.fit(X, Y)"
   ]
  },
  {
   "cell_type": "code",
   "execution_count": null,
   "metadata": {
    "collapsed": true
   },
   "outputs": [],
   "source": [
    "prediction_values_NaiveBayes = gnb.predict(tree_data[\"test\"]).astype(int)\n",
    "prediction_NaiveBayes = pd.DataFrame({\"PassengerId\":tree_data[\"test\"][\"PassengerId\"],\n",
    "                           \"Survived\":prediction_values_NaiveBayes})\n",
    "\n",
    "prediction_NaiveBayes.to_csv(\"Titanic_tree_prediction_NaiveBayes.csv\",index=False)"
   ]
  },
  {
   "cell_type": "markdown",
   "metadata": {},
   "source": [
    "## Support Vector Machines"
   ]
  },
  {
   "cell_type": "code",
   "execution_count": null,
   "metadata": {
    "collapsed": true
   },
   "outputs": [],
   "source": [
    "from sklearn import svm\n",
    "clf_svm = svm.SVC(kernel='poly')\n",
    "clf_svm.fit(X,Y)"
   ]
  },
  {
   "cell_type": "code",
   "execution_count": null,
   "metadata": {
    "collapsed": true
   },
   "outputs": [],
   "source": [
    "prediction_values_svm = clf_svm.predict(tree_data[\"test\"]).astype(int)\n",
    "prediction_svm = pd.DataFrame({\"PassengerId\":tree_data[\"test\"][\"PassengerId\"],\n",
    "                           \"Survived\":prediction_values_svm})\n",
    "\n",
    "prediction_svm.to_csv(\"Titanic_tree_prediction_svm.csv\",index=False)"
   ]
  },
  {
   "cell_type": "markdown",
   "metadata": {},
   "source": [
    "### Logarythmic regression"
   ]
  },
  {
   "cell_type": "markdown",
   "metadata": {},
   "source": [
    "\n",
    "\n",
    "## 5. Evaluation"
   ]
  },
  {
   "cell_type": "code",
   "execution_count": null,
   "metadata": {
    "collapsed": true
   },
   "outputs": [],
   "source": []
  },
  {
   "cell_type": "markdown",
   "metadata": {},
   "source": [
    "## 6. Conclusion"
   ]
  },
  {
   "cell_type": "code",
   "execution_count": null,
   "metadata": {
    "collapsed": true
   },
   "outputs": [],
   "source": []
  },
  {
   "cell_type": "code",
   "execution_count": null,
   "metadata": {
    "collapsed": true
   },
   "outputs": [],
   "source": []
  }
 ],
 "metadata": {
  "kernelspec": {
   "display_name": "Python 3",
   "language": "python",
   "name": "python3"
  },
  "language_info": {
   "codemirror_mode": {
    "name": "ipython",
    "version": 3
   },
   "file_extension": ".py",
   "mimetype": "text/x-python",
   "name": "python",
   "nbconvert_exporter": "python",
   "pygments_lexer": "ipython3",
   "version": "3.6.1"
  }
 },
 "nbformat": 4,
 "nbformat_minor": 2
}
