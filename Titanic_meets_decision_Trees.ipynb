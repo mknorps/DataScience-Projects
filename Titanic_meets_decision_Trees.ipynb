{
 "cells": [
  {
   "cell_type": "markdown",
   "metadata": {},
   "source": [
    "# Titanic survival\n",
    "\n",
    "### Who will make it?\n"
   ]
  },
  {
   "cell_type": "markdown",
   "metadata": {},
   "source": [
    "This notebook is prepared for training purpose.\n",
    "\n",
    "We will explore the [Titanic survival data](https://www.kaggle.com/c/titanic) , and model the survival with decision trees.\n",
    "(see [Decision Tree course](https://www.linkedin.com/learning/machine-learning-ai-foundations-decision-trees))"
   ]
  },
  {
   "cell_type": "markdown",
   "metadata": {},
   "source": [
    "## 1. GOALS\n",
    "\n",
    " - predict survival rate of titanic passengers\n",
    " - practice decision trees\n",
    " - build a small data science project\n"
   ]
  },
  {
   "cell_type": "markdown",
   "metadata": {},
   "source": [
    "## 2. Data understanding\n",
    "\n"
   ]
  },
  {
   "cell_type": "code",
   "execution_count": 1,
   "metadata": {},
   "outputs": [
    {
     "name": "stdout",
     "output_type": "stream",
     "text": [
      "<class 'pandas.core.frame.DataFrame'>\n",
      "RangeIndex: 891 entries, 0 to 890\n",
      "Data columns (total 12 columns):\n",
      "PassengerId    891 non-null int64\n",
      "Survived       891 non-null int64\n",
      "Pclass         891 non-null int64\n",
      "Name           891 non-null object\n",
      "Sex            891 non-null object\n",
      "Age            714 non-null float64\n",
      "SibSp          891 non-null int64\n",
      "Parch          891 non-null int64\n",
      "Ticket         891 non-null object\n",
      "Fare           891 non-null float64\n",
      "Cabin          204 non-null object\n",
      "Embarked       889 non-null object\n",
      "dtypes: float64(2), int64(5), object(5)\n",
      "memory usage: 83.6+ KB\n",
      "None\n",
      "\n",
      " Embarked options:  S    644\n",
      "C    168\n",
      "Q     77\n",
      "Name: Embarked, dtype: int64\n"
     ]
    },
    {
     "data": {
      "text/html": [
       "<div>\n",
       "<style>\n",
       "    .dataframe thead tr:only-child th {\n",
       "        text-align: right;\n",
       "    }\n",
       "\n",
       "    .dataframe thead th {\n",
       "        text-align: left;\n",
       "    }\n",
       "\n",
       "    .dataframe tbody tr th {\n",
       "        vertical-align: top;\n",
       "    }\n",
       "</style>\n",
       "<table border=\"1\" class=\"dataframe\">\n",
       "  <thead>\n",
       "    <tr style=\"text-align: right;\">\n",
       "      <th></th>\n",
       "      <th>PassengerId</th>\n",
       "      <th>Survived</th>\n",
       "      <th>Pclass</th>\n",
       "      <th>Age</th>\n",
       "      <th>SibSp</th>\n",
       "      <th>Parch</th>\n",
       "      <th>Fare</th>\n",
       "    </tr>\n",
       "  </thead>\n",
       "  <tbody>\n",
       "    <tr>\n",
       "      <th>count</th>\n",
       "      <td>891.000000</td>\n",
       "      <td>891.000000</td>\n",
       "      <td>891.000000</td>\n",
       "      <td>714.000000</td>\n",
       "      <td>891.000000</td>\n",
       "      <td>891.000000</td>\n",
       "      <td>891.000000</td>\n",
       "    </tr>\n",
       "    <tr>\n",
       "      <th>mean</th>\n",
       "      <td>446.000000</td>\n",
       "      <td>0.383838</td>\n",
       "      <td>2.308642</td>\n",
       "      <td>29.699118</td>\n",
       "      <td>0.523008</td>\n",
       "      <td>0.381594</td>\n",
       "      <td>32.204208</td>\n",
       "    </tr>\n",
       "    <tr>\n",
       "      <th>std</th>\n",
       "      <td>257.353842</td>\n",
       "      <td>0.486592</td>\n",
       "      <td>0.836071</td>\n",
       "      <td>14.526497</td>\n",
       "      <td>1.102743</td>\n",
       "      <td>0.806057</td>\n",
       "      <td>49.693429</td>\n",
       "    </tr>\n",
       "    <tr>\n",
       "      <th>min</th>\n",
       "      <td>1.000000</td>\n",
       "      <td>0.000000</td>\n",
       "      <td>1.000000</td>\n",
       "      <td>0.420000</td>\n",
       "      <td>0.000000</td>\n",
       "      <td>0.000000</td>\n",
       "      <td>0.000000</td>\n",
       "    </tr>\n",
       "    <tr>\n",
       "      <th>25%</th>\n",
       "      <td>223.500000</td>\n",
       "      <td>0.000000</td>\n",
       "      <td>2.000000</td>\n",
       "      <td>20.125000</td>\n",
       "      <td>0.000000</td>\n",
       "      <td>0.000000</td>\n",
       "      <td>7.910400</td>\n",
       "    </tr>\n",
       "    <tr>\n",
       "      <th>50%</th>\n",
       "      <td>446.000000</td>\n",
       "      <td>0.000000</td>\n",
       "      <td>3.000000</td>\n",
       "      <td>28.000000</td>\n",
       "      <td>0.000000</td>\n",
       "      <td>0.000000</td>\n",
       "      <td>14.454200</td>\n",
       "    </tr>\n",
       "    <tr>\n",
       "      <th>75%</th>\n",
       "      <td>668.500000</td>\n",
       "      <td>1.000000</td>\n",
       "      <td>3.000000</td>\n",
       "      <td>38.000000</td>\n",
       "      <td>1.000000</td>\n",
       "      <td>0.000000</td>\n",
       "      <td>31.000000</td>\n",
       "    </tr>\n",
       "    <tr>\n",
       "      <th>max</th>\n",
       "      <td>891.000000</td>\n",
       "      <td>1.000000</td>\n",
       "      <td>3.000000</td>\n",
       "      <td>80.000000</td>\n",
       "      <td>8.000000</td>\n",
       "      <td>6.000000</td>\n",
       "      <td>512.329200</td>\n",
       "    </tr>\n",
       "  </tbody>\n",
       "</table>\n",
       "</div>"
      ],
      "text/plain": [
       "       PassengerId    Survived      Pclass         Age       SibSp  \\\n",
       "count   891.000000  891.000000  891.000000  714.000000  891.000000   \n",
       "mean    446.000000    0.383838    2.308642   29.699118    0.523008   \n",
       "std     257.353842    0.486592    0.836071   14.526497    1.102743   \n",
       "min       1.000000    0.000000    1.000000    0.420000    0.000000   \n",
       "25%     223.500000    0.000000    2.000000   20.125000    0.000000   \n",
       "50%     446.000000    0.000000    3.000000   28.000000    0.000000   \n",
       "75%     668.500000    1.000000    3.000000   38.000000    1.000000   \n",
       "max     891.000000    1.000000    3.000000   80.000000    8.000000   \n",
       "\n",
       "            Parch        Fare  \n",
       "count  891.000000  891.000000  \n",
       "mean     0.381594   32.204208  \n",
       "std      0.806057   49.693429  \n",
       "min      0.000000    0.000000  \n",
       "25%      0.000000    7.910400  \n",
       "50%      0.000000   14.454200  \n",
       "75%      0.000000   31.000000  \n",
       "max      6.000000  512.329200  "
      ]
     },
     "execution_count": 1,
     "metadata": {},
     "output_type": "execute_result"
    }
   ],
   "source": [
    "%matplotlib inline\n",
    "\n",
    "import pandas as pd\n",
    "import numpy as np\n",
    "import seaborn as sns\n",
    "import matplotlib.pyplot as plt\n",
    "\n",
    "\n",
    "data = pd.read_csv(\"Titanic/train.csv\")\n",
    "print(data.info())\n",
    "print(\"\\n Embarked options: \", data[\"Embarked\"].value_counts())\n",
    "\n",
    "data.describe()"
   ]
  },
  {
   "cell_type": "markdown",
   "metadata": {},
   "source": [
    "## Apply less memory-consuming data types to the data (see [Dataquest blog](https://www.dataquest.io/blog/pandas-big-data/))"
   ]
  },
  {
   "cell_type": "code",
   "execution_count": 2,
   "metadata": {},
   "outputs": [
    {
     "data": {
      "text/html": [
       "<div>\n",
       "<style>\n",
       "    .dataframe thead tr:only-child th {\n",
       "        text-align: right;\n",
       "    }\n",
       "\n",
       "    .dataframe thead th {\n",
       "        text-align: left;\n",
       "    }\n",
       "\n",
       "    .dataframe tbody tr th {\n",
       "        vertical-align: top;\n",
       "    }\n",
       "</style>\n",
       "<table border=\"1\" class=\"dataframe\">\n",
       "  <thead>\n",
       "    <tr style=\"text-align: right;\">\n",
       "      <th></th>\n",
       "      <th>PassengerId</th>\n",
       "      <th>Survived</th>\n",
       "      <th>Pclass</th>\n",
       "      <th>Name</th>\n",
       "      <th>Sex</th>\n",
       "      <th>Age</th>\n",
       "      <th>SibSp</th>\n",
       "      <th>Parch</th>\n",
       "      <th>Ticket</th>\n",
       "      <th>Fare</th>\n",
       "      <th>Cabin</th>\n",
       "      <th>Embarked</th>\n",
       "    </tr>\n",
       "  </thead>\n",
       "  <tbody>\n",
       "    <tr>\n",
       "      <th>0</th>\n",
       "      <td>1</td>\n",
       "      <td>0</td>\n",
       "      <td>3</td>\n",
       "      <td>Braund, Mr. Owen Harris</td>\n",
       "      <td>male</td>\n",
       "      <td>22.0</td>\n",
       "      <td>1</td>\n",
       "      <td>0</td>\n",
       "      <td>A/5 21171</td>\n",
       "      <td>7.2500</td>\n",
       "      <td>NaN</td>\n",
       "      <td>S</td>\n",
       "    </tr>\n",
       "    <tr>\n",
       "      <th>1</th>\n",
       "      <td>2</td>\n",
       "      <td>1</td>\n",
       "      <td>1</td>\n",
       "      <td>Cumings, Mrs. John Bradley (Florence Briggs Th...</td>\n",
       "      <td>female</td>\n",
       "      <td>38.0</td>\n",
       "      <td>1</td>\n",
       "      <td>0</td>\n",
       "      <td>PC 17599</td>\n",
       "      <td>71.2833</td>\n",
       "      <td>C85</td>\n",
       "      <td>C</td>\n",
       "    </tr>\n",
       "    <tr>\n",
       "      <th>2</th>\n",
       "      <td>3</td>\n",
       "      <td>1</td>\n",
       "      <td>3</td>\n",
       "      <td>Heikkinen, Miss. Laina</td>\n",
       "      <td>female</td>\n",
       "      <td>26.0</td>\n",
       "      <td>0</td>\n",
       "      <td>0</td>\n",
       "      <td>STON/O2. 3101282</td>\n",
       "      <td>7.9250</td>\n",
       "      <td>NaN</td>\n",
       "      <td>S</td>\n",
       "    </tr>\n",
       "    <tr>\n",
       "      <th>3</th>\n",
       "      <td>4</td>\n",
       "      <td>1</td>\n",
       "      <td>1</td>\n",
       "      <td>Futrelle, Mrs. Jacques Heath (Lily May Peel)</td>\n",
       "      <td>female</td>\n",
       "      <td>35.0</td>\n",
       "      <td>1</td>\n",
       "      <td>0</td>\n",
       "      <td>113803</td>\n",
       "      <td>53.1000</td>\n",
       "      <td>C123</td>\n",
       "      <td>S</td>\n",
       "    </tr>\n",
       "    <tr>\n",
       "      <th>4</th>\n",
       "      <td>5</td>\n",
       "      <td>0</td>\n",
       "      <td>3</td>\n",
       "      <td>Allen, Mr. William Henry</td>\n",
       "      <td>male</td>\n",
       "      <td>35.0</td>\n",
       "      <td>0</td>\n",
       "      <td>0</td>\n",
       "      <td>373450</td>\n",
       "      <td>8.0500</td>\n",
       "      <td>NaN</td>\n",
       "      <td>S</td>\n",
       "    </tr>\n",
       "  </tbody>\n",
       "</table>\n",
       "</div>"
      ],
      "text/plain": [
       "   PassengerId  Survived  Pclass  \\\n",
       "0            1         0       3   \n",
       "1            2         1       1   \n",
       "2            3         1       3   \n",
       "3            4         1       1   \n",
       "4            5         0       3   \n",
       "\n",
       "                                                Name     Sex   Age  SibSp  \\\n",
       "0                            Braund, Mr. Owen Harris    male  22.0      1   \n",
       "1  Cumings, Mrs. John Bradley (Florence Briggs Th...  female  38.0      1   \n",
       "2                             Heikkinen, Miss. Laina  female  26.0      0   \n",
       "3       Futrelle, Mrs. Jacques Heath (Lily May Peel)  female  35.0      1   \n",
       "4                           Allen, Mr. William Henry    male  35.0      0   \n",
       "\n",
       "   Parch            Ticket     Fare Cabin Embarked  \n",
       "0      0         A/5 21171   7.2500   NaN        S  \n",
       "1      0          PC 17599  71.2833   C85        C  \n",
       "2      0  STON/O2. 3101282   7.9250   NaN        S  \n",
       "3      0            113803  53.1000  C123        S  \n",
       "4      0            373450   8.0500   NaN        S  "
      ]
     },
     "execution_count": 2,
     "metadata": {},
     "output_type": "execute_result"
    }
   ],
   "source": [
    "data.head()"
   ]
  },
  {
   "cell_type": "code",
   "execution_count": 3,
   "metadata": {},
   "outputs": [
    {
     "name": "stdout",
     "output_type": "stream",
     "text": [
      "<class 'pandas.core.frame.DataFrame'>\n",
      "RangeIndex: 891 entries, 0 to 890\n",
      "Data columns (total 12 columns):\n",
      "PassengerId    891 non-null int16\n",
      "Survived       891 non-null bool\n",
      "Pclass         891 non-null category\n",
      "Name           891 non-null object\n",
      "Sex            891 non-null category\n",
      "Age            714 non-null float32\n",
      "SibSp          891 non-null int8\n",
      "Parch          891 non-null int8\n",
      "Ticket         891 non-null object\n",
      "Fare           891 non-null float32\n",
      "Cabin          204 non-null object\n",
      "Embarked       889 non-null category\n",
      "dtypes: bool(1), category(3), float32(2), int16(1), int8(2), object(3)\n",
      "memory usage: 35.2+ KB\n",
      "None\n"
     ]
    }
   ],
   "source": [
    "from sklearn.model_selection import train_test_split\n",
    "\n",
    "\n",
    "# setting up new data types\n",
    "dtypes_col       = data.columns\n",
    "dtypes_type_old  = data.dtypes\n",
    "dtypes_type      = ['int16', 'bool','category','object','category','float32','int8','int8','object','float32','object','category']\n",
    "optimized_dtypes = dict(zip(dtypes_col, dtypes_type))\n",
    "\n",
    "#read data once again with optimized columns\n",
    "data_optimized = pd.read_csv(\"Titanic/train.csv\",dtype=optimized_dtypes)\n",
    "test_optimized = pd.read_csv(\"Titanic/test.csv\",dtype=optimized_dtypes)\n",
    "\n",
    "#splitting data to train and validation\n",
    "train, valid = train_test_split(data_optimized, test_size=0.2)\n",
    "\n",
    "\n",
    "combined = {\"train\":train,\n",
    "            \"valid\":valid,\n",
    "            \"test\":test_optimized}\n",
    "\n",
    "print(data_optimized.info())\n"
   ]
  },
  {
   "cell_type": "markdown",
   "metadata": {},
   "source": [
    "<span style=\"color:green\"> Hooray! We saved more than half of the memory and the table is read properly!</span>"
   ]
  },
  {
   "cell_type": "markdown",
   "metadata": {},
   "source": [
    "## Do we have any missing data?"
   ]
  },
  {
   "cell_type": "code",
   "execution_count": 4,
   "metadata": {},
   "outputs": [
    {
     "data": {
      "text/plain": [
       "PassengerId      0\n",
       "Survived         0\n",
       "Pclass           0\n",
       "Name             0\n",
       "Sex              0\n",
       "Age            177\n",
       "SibSp            0\n",
       "Parch            0\n",
       "Ticket           0\n",
       "Fare             0\n",
       "Cabin          687\n",
       "Embarked         2\n",
       "dtype: int64"
      ]
     },
     "execution_count": 4,
     "metadata": {},
     "output_type": "execute_result"
    }
   ],
   "source": [
    "\n",
    "data_optimized.isnull().sum()"
   ]
  },
  {
   "cell_type": "markdown",
   "metadata": {},
   "source": [
    "\"Cabin\" column will not be interesting for us, because there is a lot of missing data.\n",
    "\n",
    "\"Age\" column may be important for the model, and but some of decision tree models have a mechanism for estimating missing value based on correlation with other values if possible.\n",
    "\n",
    "\n",
    "I will use [Kaggle, Anisotropic profile](https://www.kaggle.com/arthurtok/interactive-porto-insights-a-plot-ly-tutorial) to get the data analysis step by step."
   ]
  },
  {
   "cell_type": "code",
   "execution_count": 5,
   "metadata": {
    "collapsed": true
   },
   "outputs": [],
   "source": [
    "combined_cleaned = {}\n",
    "for i,data in combined.items():\n",
    "    combined_cleaned[i] = data.drop('Cabin', 1).copy()"
   ]
  },
  {
   "cell_type": "code",
   "execution_count": 6,
   "metadata": {},
   "outputs": [
    {
     "data": {
      "text/plain": [
       "<matplotlib.axes._subplots.AxesSubplot at 0x18ee9301f60>"
      ]
     },
     "execution_count": 6,
     "metadata": {},
     "output_type": "execute_result"
    },
    {
     "data": {
      "image/png": "[encoded data removed]",
      "text/plain": [
       "<matplotlib.figure.Figure at 0x18ee683e208>"
      ]
     },
     "metadata": {},
     "output_type": "display_data"
    }
   ],
   "source": [
    "#numerical features\n",
    "\n",
    "train_numeric = combined_cleaned[\"train\"].select_dtypes(include=['float32','int16','int8','bool'])\n",
    "\n",
    "colormap = plt.cm.cubehelix_r\n",
    "plt.figure(figsize=(16,12))\n",
    "\n",
    "plt.title('Pearson correlation of numeric features', y=1.05, size=15)\n",
    "sns.heatmap(train_numeric.corr(),linewidths=0.1,vmax=1.0, square=True, cmap=colormap, linecolor='white', annot=True)"
   ]
  },
  {
   "cell_type": "markdown",
   "metadata": {},
   "source": [
    "Two interesting correlations are:\n",
    " - positive (0.41) for \"SibSp\" and \"Parch\"\n",
    " - negative  (-0.31) for \"SibSp\" and \"Age\""
   ]
  },
  {
   "cell_type": "code",
   "execution_count": 7,
   "metadata": {
    "scrolled": true
   },
   "outputs": [
    {
     "data": {
      "image/png": "[encoded data removed]",
      "text/plain": [
       "<matplotlib.figure.Figure at 0x18ee9cf9978>"
      ]
     },
     "metadata": {},
     "output_type": "display_data"
    }
   ],
   "source": [
    "# category features\n",
    "\n",
    "#we do not count NaN categories\n",
    "def survived_percent(categories,column):\n",
    "    survived_list = []\n",
    "    for c in categories.dropna():\n",
    "        count = combined_cleaned[\"train\"][combined_cleaned[\"train\"][column] == c][column].count()\n",
    "        survived = combined_cleaned[\"train\"][combined_cleaned[\"train\"][column] == c][\"Survived\"].sum()/count\n",
    "        survived_list.append(survived)\n",
    "    return survived_list    \n",
    "   \n",
    "category_features_list = [\"Sex\", \"Embarked\",\"Pclass\"]\n",
    "category_features = {}\n",
    "\n",
    "for x in category_features_list:\n",
    "    unique_values = combined_cleaned[\"train\"][x].unique().dropna()\n",
    "    survived = survived_percent(unique_values,x)\n",
    "    category_features[x] = [unique_values, survived]\n",
    "\n",
    "\n",
    "fig, axs = plt.subplots(1, 3, figsize=(18, 4), sharey=True)\n",
    "cb_dark_blue = (0/255,107/255,164/255)\n",
    "cb_orange = (255/255, 128/255, 14/255)\n",
    "cb_grey = (89/255, 89/255, 89/255)\n",
    "color=[cb_dark_blue,cb_orange,cb_grey]\n",
    "\n",
    "font_dict = {'fontsize':20, \n",
    "             'fontweight':'bold',\n",
    "             'color':\"white\"}\n",
    "\n",
    "for i,cat in enumerate(category_features.keys()):\n",
    "    number_categories = len(category_features[cat][0])\n",
    "    axs[i].bar(range(number_categories), category_features[cat][1], color=color[:number_categories])\n",
    "    axs[i].set_title(\"Survival rate \" + cat ,fontsize=20, fontweight='bold' )\n",
    "    for j,indx in enumerate(category_features[cat][1]):\n",
    "        label_text = category_features[cat][0][j]\n",
    "        x = j\n",
    "        y = indx\n",
    "        axs[i].annotate(label_text, xy = (x-0.15 ,y/2), **font_dict )\n",
    "\n",
    "for i in range(3):\n",
    "    axs[i].tick_params(\n",
    "        axis='x',          # changes apply to the x-axis\n",
    "        which='both',      # both major and minor ticks are affected\n",
    "        bottom='off',      # ticks along the bottom edge are off\n",
    "        top='off',         # ticks along the top edge are off\n",
    "        labelbottom='off') # labels along the bottom edge are off\n",
    "    axs[i].patch.set_visible(False)\n",
    "\n",
    "\n"
   ]
  },
  {
   "cell_type": "markdown",
   "metadata": {
    "collapsed": true
   },
   "source": [
    "Gender is a key factor insurvival rate."
   ]
  },
  {
   "cell_type": "markdown",
   "metadata": {},
   "source": [
    "## 3. Filling missing data"
   ]
  },
  {
   "cell_type": "markdown",
   "metadata": {},
   "source": [
    "For \"Embarked\" colum we will use most popular category which is \"S\", because there are only 2 records missing.\n",
    "\n",
    "For \"Age\" column as a first attempt we will use age distribution $F_{Age}$ known from the rest of the data and generate random number from it. "
   ]
  },
  {
   "cell_type": "code",
   "execution_count": 8,
   "metadata": {},
   "outputs": [],
   "source": [
    "# filling NaN in \"Embarked\" and \"Fare\"\n",
    "\n",
    "for i,data in combined_cleaned.items():\n",
    "    mean_Fare = data[\"Fare\"].mean()\n",
    "    data[\"Fare\"].fillna(value=mean_Fare,inplace=True)\n",
    "    data.drop(\"Embarked\",axis=1,inplace=True)"
   ]
  },
  {
   "cell_type": "code",
   "execution_count": 9,
   "metadata": {},
   "outputs": [
    {
     "data": {
      "image/png": "[encoded data removed]",
      "text/plain": [
       "<matplotlib.figure.Figure at 0x18ee9c376a0>"
      ]
     },
     "metadata": {},
     "output_type": "display_data"
    }
   ],
   "source": [
    "# filling NaN in \"Age\" \n",
    "fig, ax = plt.subplots( figsize=(6,4))\n",
    "x = combined_cleaned[\"train\"][\"Age\"].dropna()\n",
    "hist, bins = np.histogram( x,bins=15)\n",
    "\n",
    "#plot of histogram\n",
    "ax.hist(x, normed=True, color='grey')\n",
    "ax.set_title('Age histogram')\n",
    "plt.show()\n"
   ]
  },
  {
   "cell_type": "code",
   "execution_count": 10,
   "metadata": {
    "collapsed": true
   },
   "outputs": [],
   "source": [
    "from random import choices\n",
    "\n",
    "bin_centers = 0.5*(bins[:len(bins)-1]+bins[1:])\n",
    "probabilities = hist/hist.sum()\n",
    "\n",
    "#dictionary with random numbers from existing age distribution\n",
    "for i,data in combined_cleaned.items():\n",
    "    data[\"Age_rand\"] = data[\"Age\"].apply(lambda v: np.random.choice(bin_centers, p=probabilities))\n",
    "    Age_null_list   = data[data[\"Age\"].isnull()].index\n",
    "    \n",
    "    data.loc[Age_null_list,\"Age\"] = data.loc[Age_null_list,\"Age_rand\"]\n",
    "    "
   ]
  },
  {
   "cell_type": "markdown",
   "metadata": {},
   "source": []
  },
  {
   "cell_type": "code",
   "execution_count": null,
   "metadata": {
    "collapsed": true
   },
   "outputs": [],
   "source": []
  },
  {
   "cell_type": "markdown",
   "metadata": {},
   "source": [
    "## 4. Modelling"
   ]
  },
  {
   "cell_type": "markdown",
   "metadata": {
    "collapsed": true
   },
   "source": [
    "### a) C&RT decision tree\n"
   ]
  },
  {
   "cell_type": "code",
   "execution_count": 11,
   "metadata": {},
   "outputs": [],
   "source": [
    "from sklearn import preprocessing,tree\n",
    "from sklearn.model_selection import GridSearchCV\n",
    "\n",
    "tree_data = {}\n",
    "tree_data_category = {}\n",
    "\n",
    "for i,data in combined_cleaned.items():\n",
    "    tree_data[i] = data.select_dtypes(include=['float32','int16','int8']).copy()\n",
    "    tree_data_category[i] = data.select_dtypes(include=['category'])\n",
    "\n",
    "    #categorical variables handling\n",
    "    for column in tree_data_category[i].columns:\n",
    "        le = preprocessing.LabelEncoder()\n",
    "        le.fit(data[column])\n",
    "        tree_data[i][column+\"_encoded\"] = le.transform(data[column])\n"
   ]
  },
  {
   "cell_type": "code",
   "execution_count": 26,
   "metadata": {},
   "outputs": [
    {
     "name": "stdout",
     "output_type": "stream",
     "text": [
      "Tree best parameters : {'criterion': 'gini', 'max_depth': 4, 'min_samples_leaf': 20, 'min_samples_split': 20, 'min_weight_fraction_leaf': 0.10000000000000001}\n",
      "Tree best estimator : DecisionTreeClassifier(class_weight=None, criterion='gini', max_depth=4,\n",
      "            max_features=None, max_leaf_nodes=None,\n",
      "            min_impurity_split=1e-07, min_samples_leaf=20,\n",
      "            min_samples_split=20,\n",
      "            min_weight_fraction_leaf=0.10000000000000001, presort=False,\n",
      "            random_state=None, splitter='best')\n",
      "Tree best score : 0.814065966287\n"
     ]
    }
   ],
   "source": [
    "#finding best fit with gridsearch\n",
    "param_grid = {'min_samples_leaf':np.arange(20,50,5),\n",
    "              'min_samples_split':np.arange(20,50,5),\n",
    "              'max_depth':np.arange(3,6),\n",
    "              'min_weight_fraction_leaf':np.arange(0,0.4,0.1),\n",
    "              'criterion':['gini','entropy']}\n",
    "clf = tree.DecisionTreeClassifier()\n",
    "tree_search = GridSearchCV(clf, param_grid, scoring='average_precision')\n",
    "\n",
    "X =  tree_data[\"train\"].drop(\"PassengerId\",axis=1)\n",
    "Y = combined_cleaned[\"train\"][\"Survived\"]\n",
    "tree_search.fit(X,Y)\n",
    "\n",
    "print(\"Tree best parameters :\",tree_search.best_params_)\n",
    "print(\"Tree best estimator :\",tree_search.best_estimator_ )\n",
    "print(\"Tree best score :\",tree_search.best_score_ )\n"
   ]
  },
  {
   "cell_type": "code",
   "execution_count": 27,
   "metadata": {},
   "outputs": [
    {
     "data": {
      "image/png": "[encoded data removed]",
      "text/plain": [
       "<matplotlib.figure.Figure at 0x18eea3c5780>"
      ]
     },
     "metadata": {},
     "output_type": "display_data"
    }
   ],
   "source": [
    "tree_best_parameters = tree_search.best_params_\n",
    "tree_optimized = tree.DecisionTreeClassifier(**tree_best_parameters)\n",
    "tree_optimized.fit(X,Y)\n",
    "\n",
    "train_columns = tree_data[\"train\"].columns\n",
    "fig, ax = plt.subplots( figsize=(6,4))\n",
    "ax.bar(range(len(X.columns)),tree_optimized.feature_importances_ )\n",
    "plt.xticks(range(len(X.columns)),X.columns,rotation=90)\n",
    "ax.set_title(\"Feature importance\")\n",
    "plt.show()"
   ]
  },
  {
   "cell_type": "code",
   "execution_count": 28,
   "metadata": {},
   "outputs": [
    {
     "data": {
      "image/svg+xml": [
       "<?xml version=\"1.0\" encoding=\"UTF-8\" standalone=\"no\"?>\r\n",
       "<!DOCTYPE svg PUBLIC \"-//W3C//DTD SVG 1.1//EN\"\r\n",
       " \"http://www.w3.org/Graphics/SVG/1.1/DTD/svg11.dtd\">\r\n",
       "<!-- Generated by graphviz version 2.38.0 (20140413.2041)\r\n",
       " -->\r\n",
       "<!-- Title: Tree Pages: 1 -->\r\n",
       "<svg width=\"545pt\" height=\"477pt\"\r\n",
       " viewBox=\"0.00 0.00 545.00 477.00\" xmlns=\"http://www.w3.org/2000/svg\" xmlns:xlink=\"http://www.w3.org/1999/xlink\">\r\n",
       "<g id=\"graph0\" class=\"graph\" transform=\"scale(1 1) rotate(0) translate(4 473)\">\r\n",
       "<title>Tree</title>\r\n",
       "<polygon fill=\"white\" stroke=\"none\" points=\"-4,4 -4,-473 541,-473 541,4 -4,4\"/>\r\n",
       "<!-- 0 -->\r\n",
       "<g id=\"node1\" class=\"node\"><title>0</title>\r\n",
       "<path fill=\"#e58139\" fill-opacity=\"0.400000\" stroke=\"black\" d=\"M328,-469C328,-469 193,-469 193,-469 187,-469 181,-463 181,-457 181,-457 181,-413 181,-413 181,-407 187,-401 193,-401 193,-401 328,-401 328,-401 334,-401 340,-407 340,-413 340,-413 340,-457 340,-457 340,-463 334,-469 328,-469\"/>\r\n",
       "<text text-anchor=\"start\" x=\"189\" y=\"-453.8\" font-family=\"Helvetica,sans-Serif\" font-size=\"14.00\">Pclass_encoded ≤ 0.5</text>\r\n",
       "<text text-anchor=\"start\" x=\"219\" y=\"-438.8\" font-family=\"Helvetica,sans-Serif\" font-size=\"14.00\">gini = 0.4688</text>\r\n",
       "<text text-anchor=\"start\" x=\"213\" y=\"-423.8\" font-family=\"Helvetica,sans-Serif\" font-size=\"14.00\">samples = 712</text>\r\n",
       "<text text-anchor=\"start\" x=\"203.5\" y=\"-408.8\" font-family=\"Helvetica,sans-Serif\" font-size=\"14.00\">value = [445, 267]</text>\r\n",
       "</g>\r\n",
       "<!-- 1 -->\r\n",
       "<g id=\"node2\" class=\"node\"><title>1</title>\r\n",
       "<path fill=\"#399de5\" fill-opacity=\"0.623529\" stroke=\"black\" d=\"M236.5,-365C236.5,-365 138.5,-365 138.5,-365 132.5,-365 126.5,-359 126.5,-353 126.5,-353 126.5,-309 126.5,-309 126.5,-303 132.5,-297 138.5,-297 138.5,-297 236.5,-297 236.5,-297 242.5,-297 248.5,-303 248.5,-309 248.5,-309 248.5,-353 248.5,-353 248.5,-359 242.5,-365 236.5,-365\"/>\r\n",
       "<text text-anchor=\"start\" x=\"155\" y=\"-349.8\" font-family=\"Helvetica,sans-Serif\" font-size=\"14.00\">Fare ≤ 1.5</text>\r\n",
       "<text text-anchor=\"start\" x=\"150\" y=\"-334.8\" font-family=\"Helvetica,sans-Serif\" font-size=\"14.00\">gini = 0.397</text>\r\n",
       "<text text-anchor=\"start\" x=\"140\" y=\"-319.8\" font-family=\"Helvetica,sans-Serif\" font-size=\"14.00\">samples = 249</text>\r\n",
       "<text text-anchor=\"start\" x=\"134.5\" y=\"-304.8\" font-family=\"Helvetica,sans-Serif\" font-size=\"14.00\">value = [68, 181]</text>\r\n",
       "</g>\r\n",
       "<!-- 0&#45;&gt;1 -->\r\n",
       "<g id=\"edge1\" class=\"edge\"><title>0&#45;&gt;1</title>\r\n",
       "<path fill=\"none\" stroke=\"black\" d=\"M236.799,-400.884C230.552,-392.154 223.731,-382.625 217.211,-373.514\"/>\r\n",
       "<polygon fill=\"black\" stroke=\"black\" points=\"219.998,-371.394 211.332,-365.299 214.306,-375.468 219.998,-371.394\"/>\r\n",
       "<text text-anchor=\"middle\" x=\"207.245\" y=\"-386.263\" font-family=\"Helvetica,sans-Serif\" font-size=\"14.00\">True</text>\r\n",
       "</g>\r\n",
       "<!-- 4 -->\r\n",
       "<g id=\"node5\" class=\"node\"><title>4</title>\r\n",
       "<path fill=\"#e58139\" fill-opacity=\"0.772549\" stroke=\"black\" d=\"M382.5,-365C382.5,-365 284.5,-365 284.5,-365 278.5,-365 272.5,-359 272.5,-353 272.5,-353 272.5,-309 272.5,-309 272.5,-303 278.5,-297 284.5,-297 284.5,-297 382.5,-297 382.5,-297 388.5,-297 394.5,-303 394.5,-309 394.5,-309 394.5,-353 394.5,-353 394.5,-359 388.5,-365 382.5,-365\"/>\r\n",
       "<text text-anchor=\"start\" x=\"280.5\" y=\"-349.8\" font-family=\"Helvetica,sans-Serif\" font-size=\"14.00\">Parch ≤ 26.2687</text>\r\n",
       "<text text-anchor=\"start\" x=\"292\" y=\"-334.8\" font-family=\"Helvetica,sans-Serif\" font-size=\"14.00\">gini = 0.3025</text>\r\n",
       "<text text-anchor=\"start\" x=\"286\" y=\"-319.8\" font-family=\"Helvetica,sans-Serif\" font-size=\"14.00\">samples = 463</text>\r\n",
       "<text text-anchor=\"start\" x=\"280.5\" y=\"-304.8\" font-family=\"Helvetica,sans-Serif\" font-size=\"14.00\">value = [377, 86]</text>\r\n",
       "</g>\r\n",
       "<!-- 0&#45;&gt;4 -->\r\n",
       "<g id=\"edge4\" class=\"edge\"><title>0&#45;&gt;4</title>\r\n",
       "<path fill=\"none\" stroke=\"black\" d=\"M284.201,-400.884C290.448,-392.154 297.269,-382.625 303.789,-373.514\"/>\r\n",
       "<polygon fill=\"black\" stroke=\"black\" points=\"306.694,-375.468 309.668,-365.299 301.002,-371.394 306.694,-375.468\"/>\r\n",
       "<text text-anchor=\"middle\" x=\"313.755\" y=\"-386.263\" font-family=\"Helvetica,sans-Serif\" font-size=\"14.00\">False</text>\r\n",
       "</g>\r\n",
       "<!-- 2 -->\r\n",
       "<g id=\"node3\" class=\"node\"><title>2</title>\r\n",
       "<path fill=\"#399de5\" fill-opacity=\"0.937255\" stroke=\"black\" d=\"M101,-253.5C101,-253.5 12,-253.5 12,-253.5 6,-253.5 0,-247.5 0,-241.5 0,-241.5 0,-212.5 0,-212.5 0,-206.5 6,-200.5 12,-200.5 12,-200.5 101,-200.5 101,-200.5 107,-200.5 113,-206.5 113,-212.5 113,-212.5 113,-241.5 113,-241.5 113,-247.5 107,-253.5 101,-253.5\"/>\r\n",
       "<text text-anchor=\"start\" x=\"15\" y=\"-238.3\" font-family=\"Helvetica,sans-Serif\" font-size=\"14.00\">gini = 0.1115</text>\r\n",
       "<text text-anchor=\"start\" x=\"9\" y=\"-223.3\" font-family=\"Helvetica,sans-Serif\" font-size=\"14.00\">samples = 135</text>\r\n",
       "<text text-anchor=\"start\" x=\"8\" y=\"-208.3\" font-family=\"Helvetica,sans-Serif\" font-size=\"14.00\">value = [8, 127]</text>\r\n",
       "</g>\r\n",
       "<!-- 1&#45;&gt;2 -->\r\n",
       "<g id=\"edge2\" class=\"edge\"><title>1&#45;&gt;2</title>\r\n",
       "<path fill=\"none\" stroke=\"black\" d=\"M144.968,-296.884C129.713,-285.006 112.556,-271.646 97.4388,-259.876\"/>\r\n",
       "<polygon fill=\"black\" stroke=\"black\" points=\"99.3162,-256.902 89.2756,-253.52 95.0156,-262.425 99.3162,-256.902\"/>\r\n",
       "</g>\r\n",
       "<!-- 3 -->\r\n",
       "<g id=\"node4\" class=\"node\"><title>3</title>\r\n",
       "<path fill=\"#e58139\" fill-opacity=\"0.098039\" stroke=\"black\" d=\"M232,-253.5C232,-253.5 143,-253.5 143,-253.5 137,-253.5 131,-247.5 131,-241.5 131,-241.5 131,-212.5 131,-212.5 131,-206.5 137,-200.5 143,-200.5 143,-200.5 232,-200.5 232,-200.5 238,-200.5 244,-206.5 244,-212.5 244,-212.5 244,-241.5 244,-241.5 244,-247.5 238,-253.5 232,-253.5\"/>\r\n",
       "<text text-anchor=\"start\" x=\"146\" y=\"-238.3\" font-family=\"Helvetica,sans-Serif\" font-size=\"14.00\">gini = 0.4986</text>\r\n",
       "<text text-anchor=\"start\" x=\"140\" y=\"-223.3\" font-family=\"Helvetica,sans-Serif\" font-size=\"14.00\">samples = 114</text>\r\n",
       "<text text-anchor=\"start\" x=\"139\" y=\"-208.3\" font-family=\"Helvetica,sans-Serif\" font-size=\"14.00\">value = [60, 54]</text>\r\n",
       "</g>\r\n",
       "<!-- 1&#45;&gt;3 -->\r\n",
       "<g id=\"edge3\" class=\"edge\"><title>1&#45;&gt;3</title>\r\n",
       "<path fill=\"none\" stroke=\"black\" d=\"M187.5,-296.884C187.5,-286.326 187.5,-274.597 187.5,-263.854\"/>\r\n",
       "<polygon fill=\"black\" stroke=\"black\" points=\"191,-263.52 187.5,-253.52 184,-263.52 191,-263.52\"/>\r\n",
       "</g>\r\n",
       "<!-- 5 -->\r\n",
       "<g id=\"node6\" class=\"node\"><title>5</title>\r\n",
       "<path fill=\"#e58139\" fill-opacity=\"0.858824\" stroke=\"black\" d=\"M392.5,-261C392.5,-261 274.5,-261 274.5,-261 268.5,-261 262.5,-255 262.5,-249 262.5,-249 262.5,-205 262.5,-205 262.5,-199 268.5,-193 274.5,-193 274.5,-193 392.5,-193 392.5,-193 398.5,-193 404.5,-199 404.5,-205 404.5,-205 404.5,-249 404.5,-249 404.5,-255 398.5,-261 392.5,-261\"/>\r\n",
       "<text text-anchor=\"start\" x=\"270.5\" y=\"-245.8\" font-family=\"Helvetica,sans-Serif\" font-size=\"14.00\">PassengerId ≤ 20.5</text>\r\n",
       "<text text-anchor=\"start\" x=\"292\" y=\"-230.8\" font-family=\"Helvetica,sans-Serif\" font-size=\"14.00\">gini = 0.2165</text>\r\n",
       "<text text-anchor=\"start\" x=\"286\" y=\"-215.8\" font-family=\"Helvetica,sans-Serif\" font-size=\"14.00\">samples = 332</text>\r\n",
       "<text text-anchor=\"start\" x=\"280.5\" y=\"-200.8\" font-family=\"Helvetica,sans-Serif\" font-size=\"14.00\">value = [291, 41]</text>\r\n",
       "</g>\r\n",
       "<!-- 4&#45;&gt;5 -->\r\n",
       "<g id=\"edge5\" class=\"edge\"><title>4&#45;&gt;5</title>\r\n",
       "<path fill=\"none\" stroke=\"black\" d=\"M333.5,-296.884C333.5,-288.778 333.5,-279.982 333.5,-271.472\"/>\r\n",
       "<polygon fill=\"black\" stroke=\"black\" points=\"337,-271.299 333.5,-261.299 330,-271.299 337,-271.299\"/>\r\n",
       "</g>\r\n",
       "<!-- 10 -->\r\n",
       "<g id=\"node11\" class=\"node\"><title>10</title>\r\n",
       "<path fill=\"#e58139\" fill-opacity=\"0.478431\" stroke=\"black\" d=\"M524,-253.5C524,-253.5 435,-253.5 435,-253.5 429,-253.5 423,-247.5 423,-241.5 423,-241.5 423,-212.5 423,-212.5 423,-206.5 429,-200.5 435,-200.5 435,-200.5 524,-200.5 524,-200.5 530,-200.5 536,-206.5 536,-212.5 536,-212.5 536,-241.5 536,-241.5 536,-247.5 530,-253.5 524,-253.5\"/>\r\n",
       "<text text-anchor=\"start\" x=\"442\" y=\"-238.3\" font-family=\"Helvetica,sans-Serif\" font-size=\"14.00\">gini = 0.451</text>\r\n",
       "<text text-anchor=\"start\" x=\"432\" y=\"-223.3\" font-family=\"Helvetica,sans-Serif\" font-size=\"14.00\">samples = 131</text>\r\n",
       "<text text-anchor=\"start\" x=\"431\" y=\"-208.3\" font-family=\"Helvetica,sans-Serif\" font-size=\"14.00\">value = [86, 45]</text>\r\n",
       "</g>\r\n",
       "<!-- 4&#45;&gt;10 -->\r\n",
       "<g id=\"edge10\" class=\"edge\"><title>4&#45;&gt;10</title>\r\n",
       "<path fill=\"none\" stroke=\"black\" d=\"M380.902,-296.884C398.061,-284.896 417.38,-271.399 434.341,-259.549\"/>\r\n",
       "<polygon fill=\"black\" stroke=\"black\" points=\"436.778,-262.116 442.971,-253.52 432.769,-256.378 436.778,-262.116\"/>\r\n",
       "</g>\r\n",
       "<!-- 6 -->\r\n",
       "<g id=\"node7\" class=\"node\"><title>6</title>\r\n",
       "<path fill=\"#e58139\" fill-opacity=\"0.666667\" stroke=\"black\" d=\"M299,-149.5C299,-149.5 210,-149.5 210,-149.5 204,-149.5 198,-143.5 198,-137.5 198,-137.5 198,-108.5 198,-108.5 198,-102.5 204,-96.5 210,-96.5 210,-96.5 299,-96.5 299,-96.5 305,-96.5 311,-102.5 311,-108.5 311,-108.5 311,-137.5 311,-137.5 311,-143.5 305,-149.5 299,-149.5\"/>\r\n",
       "<text text-anchor=\"start\" x=\"217\" y=\"-134.3\" font-family=\"Helvetica,sans-Serif\" font-size=\"14.00\">gini = 0.375</text>\r\n",
       "<text text-anchor=\"start\" x=\"211\" y=\"-119.3\" font-family=\"Helvetica,sans-Serif\" font-size=\"14.00\">samples = 76</text>\r\n",
       "<text text-anchor=\"start\" x=\"206\" y=\"-104.3\" font-family=\"Helvetica,sans-Serif\" font-size=\"14.00\">value = [57, 19]</text>\r\n",
       "</g>\r\n",
       "<!-- 5&#45;&gt;6 -->\r\n",
       "<g id=\"edge6\" class=\"edge\"><title>5&#45;&gt;6</title>\r\n",
       "<path fill=\"none\" stroke=\"black\" d=\"M307.851,-192.884C299.077,-181.556 289.26,-168.88 280.462,-157.521\"/>\r\n",
       "<polygon fill=\"black\" stroke=\"black\" points=\"283.156,-155.283 274.265,-149.52 277.622,-159.569 283.156,-155.283\"/>\r\n",
       "</g>\r\n",
       "<!-- 7 -->\r\n",
       "<g id=\"node8\" class=\"node\"><title>7</title>\r\n",
       "<path fill=\"#e58139\" fill-opacity=\"0.905882\" stroke=\"black\" d=\"M484,-157C484,-157 341,-157 341,-157 335,-157 329,-151 329,-145 329,-145 329,-101 329,-101 329,-95 335,-89 341,-89 341,-89 484,-89 484,-89 490,-89 496,-95 496,-101 496,-101 496,-145 496,-145 496,-151 490,-157 484,-157\"/>\r\n",
       "<text text-anchor=\"start\" x=\"337\" y=\"-141.8\" font-family=\"Helvetica,sans-Serif\" font-size=\"14.00\">PassengerId ≤ 32.6523</text>\r\n",
       "<text text-anchor=\"start\" x=\"371\" y=\"-126.8\" font-family=\"Helvetica,sans-Serif\" font-size=\"14.00\">gini = 0.1571</text>\r\n",
       "<text text-anchor=\"start\" x=\"365\" y=\"-111.8\" font-family=\"Helvetica,sans-Serif\" font-size=\"14.00\">samples = 256</text>\r\n",
       "<text text-anchor=\"start\" x=\"359.5\" y=\"-96.8\" font-family=\"Helvetica,sans-Serif\" font-size=\"14.00\">value = [234, 22]</text>\r\n",
       "</g>\r\n",
       "<!-- 5&#45;&gt;7 -->\r\n",
       "<g id=\"edge7\" class=\"edge\"><title>5&#45;&gt;7</title>\r\n",
       "<path fill=\"none\" stroke=\"black\" d=\"M359.149,-192.884C365.979,-184.065 373.441,-174.43 380.563,-165.235\"/>\r\n",
       "<polygon fill=\"black\" stroke=\"black\" points=\"383.353,-167.349 386.709,-157.299 377.819,-163.062 383.353,-167.349\"/>\r\n",
       "</g>\r\n",
       "<!-- 8 -->\r\n",
       "<g id=\"node9\" class=\"node\"><title>8</title>\r\n",
       "<path fill=\"#e58139\" fill-opacity=\"0.878431\" stroke=\"black\" d=\"M393.5,-53C393.5,-53 295.5,-53 295.5,-53 289.5,-53 283.5,-47 283.5,-41 283.5,-41 283.5,-12 283.5,-12 283.5,-6 289.5,-0 295.5,-0 295.5,-0 393.5,-0 393.5,-0 399.5,-0 405.5,-6 405.5,-12 405.5,-12 405.5,-41 405.5,-41 405.5,-47 399.5,-53 393.5,-53\"/>\r\n",
       "<text text-anchor=\"start\" x=\"307\" y=\"-37.8\" font-family=\"Helvetica,sans-Serif\" font-size=\"14.00\">gini = 0.194</text>\r\n",
       "<text text-anchor=\"start\" x=\"297\" y=\"-22.8\" font-family=\"Helvetica,sans-Serif\" font-size=\"14.00\">samples = 147</text>\r\n",
       "<text text-anchor=\"start\" x=\"291.5\" y=\"-7.8\" font-family=\"Helvetica,sans-Serif\" font-size=\"14.00\">value = [131, 16]</text>\r\n",
       "</g>\r\n",
       "<!-- 7&#45;&gt;8 -->\r\n",
       "<g id=\"edge8\" class=\"edge\"><title>7&#45;&gt;8</title>\r\n",
       "<path fill=\"none\" stroke=\"black\" d=\"M388.717,-88.9485C382.332,-80.0749 375.416,-70.4648 368.993,-61.5388\"/>\r\n",
       "<polygon fill=\"black\" stroke=\"black\" points=\"371.701,-59.3094 363.02,-53.2367 366.019,-63.398 371.701,-59.3094\"/>\r\n",
       "</g>\r\n",
       "<!-- 9 -->\r\n",
       "<g id=\"node10\" class=\"node\"><title>9</title>\r\n",
       "<path fill=\"#e58139\" fill-opacity=\"0.941176\" stroke=\"black\" d=\"M525,-53C525,-53 436,-53 436,-53 430,-53 424,-47 424,-41 424,-41 424,-12 424,-12 424,-6 430,-0 436,-0 436,-0 525,-0 525,-0 531,-0 537,-6 537,-12 537,-12 537,-41 537,-41 537,-47 531,-53 525,-53\"/>\r\n",
       "<text text-anchor=\"start\" x=\"443\" y=\"-37.8\" font-family=\"Helvetica,sans-Serif\" font-size=\"14.00\">gini = 0.104</text>\r\n",
       "<text text-anchor=\"start\" x=\"433\" y=\"-22.8\" font-family=\"Helvetica,sans-Serif\" font-size=\"14.00\">samples = 109</text>\r\n",
       "<text text-anchor=\"start\" x=\"432\" y=\"-7.8\" font-family=\"Helvetica,sans-Serif\" font-size=\"14.00\">value = [103, 6]</text>\r\n",
       "</g>\r\n",
       "<!-- 7&#45;&gt;9 -->\r\n",
       "<g id=\"edge9\" class=\"edge\"><title>7&#45;&gt;9</title>\r\n",
       "<path fill=\"none\" stroke=\"black\" d=\"M436.283,-88.9485C442.668,-80.0749 449.584,-70.4648 456.007,-61.5388\"/>\r\n",
       "<polygon fill=\"black\" stroke=\"black\" points=\"458.981,-63.398 461.98,-53.2367 453.299,-59.3094 458.981,-63.398\"/>\r\n",
       "</g>\r\n",
       "</g>\r\n",
       "</svg>\r\n"
      ],
      "text/plain": [
       "<graphviz.files.Source at 0x18eea5c1278>"
      ]
     },
     "execution_count": 28,
     "metadata": {},
     "output_type": "execute_result"
    }
   ],
   "source": [
    "import graphviz \n",
    "\n",
    "dot_data = tree.export_graphviz(tree_optimized, \n",
    "                                out_file=None,\n",
    "                                filled=True, \n",
    "                                rounded=True,  \n",
    "                                special_characters=True,\n",
    "                               feature_names = train_columns) \n",
    "graph = graphviz.Source(dot_data)\n",
    "graph"
   ]
  },
  {
   "cell_type": "markdown",
   "metadata": {},
   "source": [
    "### Prediction on the test set"
   ]
  },
  {
   "cell_type": "code",
   "execution_count": 29,
   "metadata": {},
   "outputs": [],
   "source": [
    "test_without_PId = tree_data[\"test\"].drop(\"PassengerId\",axis=1)\n",
    "prediction_values = tree_optimized.predict(test_without_PId).astype(int)\n",
    "prediction = pd.DataFrame({\"PassengerId\":tree_data[\"test\"][\"PassengerId\"],\n",
    "                           \"Survived\":prediction_values})\n",
    "\n",
    "prediction\n",
    "prediction.to_csv(\"Titanic_tree_prediction.csv\",index=False)"
   ]
  },
  {
   "cell_type": "markdown",
   "metadata": {},
   "source": [
    "### Performance evaluation"
   ]
  },
  {
   "cell_type": "code",
   "execution_count": 30,
   "metadata": {},
   "outputs": [
    {
     "name": "stdout",
     "output_type": "stream",
     "text": [
      "0    104\n",
      "1     75\n",
      "Name: Survived, dtype: int64\n"
     ]
    },
    {
     "data": {
      "text/plain": [
       "array([[ 0.99038462,  0.00961538],\n",
       "       [ 0.54666667,  0.45333333]])"
      ]
     },
     "execution_count": 30,
     "metadata": {},
     "output_type": "execute_result"
    }
   ],
   "source": [
    "from sklearn.metrics import confusion_matrix\n",
    "\n",
    "evaluation = {}\n",
    "cm = {}\n",
    "\n",
    "\n",
    "valid_without_PId = tree_data[\"valid\"].drop(\"PassengerId\",axis=1)\n",
    "evaluation[\"tree\"] = tree_optimized.predict(valid_without_PId).astype(int)\n",
    "survival_from_data = combined_cleaned[\"valid\"][\"Survived\"].astype(int)\n",
    "\n",
    "print(survival_from_data.value_counts())\n",
    "\n",
    "cm[\"tree\"] = confusion_matrix(survival_from_data, evaluation[\"tree\"])\n",
    "cm[\"tree\"] = cm[\"tree\"].astype('float') / cm[\"tree\"].sum(axis=1)[:, np.newaxis]\n",
    "\n",
    "cm[\"tree\"]"
   ]
  },
  {
   "cell_type": "code",
   "execution_count": 31,
   "metadata": {
    "collapsed": true
   },
   "outputs": [],
   "source": [
    "import itertools\n",
    "\n",
    "def plot_confusion_matrix(cm, classes,\n",
    "                          title='Confusion matrix',\n",
    "                          cmap=plt.cm.Blues):\n",
    "    \"\"\"\n",
    "    This function prints and plots the confusion matrix.\n",
    "    Normalization can be applied by setting `normalize=True`.\n",
    "    \"\"\"\n",
    "    print(cm)\n",
    "\n",
    "    plt.imshow(cm, interpolation='nearest', cmap=cmap)\n",
    "    plt.title(title)\n",
    "    plt.colorbar()\n",
    "    tick_marks = np.arange(len(classes))\n",
    "    plt.xticks(tick_marks, classes, rotation=45)\n",
    "    plt.yticks(tick_marks, classes)\n",
    "\n",
    "    fmt = '.2f'\n",
    "    thresh = cm.max() / 2.\n",
    "    for i, j in itertools.product(range(cm.shape[0]), range(cm.shape[1])):\n",
    "        plt.text(j, i, format(cm[i, j], fmt),\n",
    "                 horizontalalignment=\"center\",\n",
    "                 color=\"white\" if cm[i, j] > thresh else \"black\")\n",
    "\n",
    "    plt.tight_layout()\n",
    "    plt.ylabel('True label')\n",
    "    plt.xlabel('Predicted label')\n"
   ]
  },
  {
   "cell_type": "code",
   "execution_count": 25,
   "metadata": {},
   "outputs": [
    {
     "name": "stdout",
     "output_type": "stream",
     "text": [
      "[[ 0.99038462  0.00961538]\n",
      " [ 0.54666667  0.45333333]]\n"
     ]
    },
    {
     "data": {
      "image/png": "[encoded data removed]",
      "text/plain": [
       "<matplotlib.figure.Figure at 0x18eea4e0b38>"
      ]
     },
     "metadata": {},
     "output_type": "display_data"
    }
   ],
   "source": [
    "# http://scikit-learn.org/stable/modules/generated/sklearn.metrics.confusion_matrix.html\n",
    "plot_confusion_matrix(cm[\"tree\"], classes=[\"No\",\"Yes\"], \n",
    "                      title='Normalized confusion matrix')\n"
   ]
  },
  {
   "cell_type": "markdown",
   "metadata": {},
   "source": [
    "### b) Into the woods - random forest\n"
   ]
  },
  {
   "cell_type": "code",
   "execution_count": 32,
   "metadata": {},
   "outputs": [
    {
     "name": "stderr",
     "output_type": "stream",
     "text": [
      "C:\\Users\\Qdeu\\Anaconda3\\lib\\site-packages\\sklearn\\metrics\\classification.py:1113: UndefinedMetricWarning: Precision is ill-defined and being set to 0.0 due to no predicted samples.\n",
      "  'precision', 'predicted', average, warn_for)\n",
      "C:\\Users\\Qdeu\\Anaconda3\\lib\\site-packages\\sklearn\\metrics\\classification.py:1113: UndefinedMetricWarning: Precision is ill-defined and being set to 0.0 due to no predicted samples.\n",
      "  'precision', 'predicted', average, warn_for)\n",
      "C:\\Users\\Qdeu\\Anaconda3\\lib\\site-packages\\sklearn\\metrics\\classification.py:1113: UndefinedMetricWarning: Precision is ill-defined and being set to 0.0 due to no predicted samples.\n",
      "  'precision', 'predicted', average, warn_for)\n",
      "C:\\Users\\Qdeu\\Anaconda3\\lib\\site-packages\\sklearn\\metrics\\classification.py:1113: UndefinedMetricWarning: Precision is ill-defined and being set to 0.0 due to no predicted samples.\n",
      "  'precision', 'predicted', average, warn_for)\n"
     ]
    },
    {
     "name": "stdout",
     "output_type": "stream",
     "text": [
      "Forest best parameters : {'criterion': 'gini', 'max_depth': 3, 'min_weight_fraction_leaf': 0.30000000000000004, 'n_estimators': 7}\n",
      "Forest best estimator : RandomForestClassifier(bootstrap=True, class_weight=None, criterion='gini',\n",
      "            max_depth=3, max_features='auto', max_leaf_nodes=None,\n",
      "            min_impurity_split=1e-07, min_samples_leaf=1,\n",
      "            min_samples_split=2,\n",
      "            min_weight_fraction_leaf=0.30000000000000004, n_estimators=7,\n",
      "            n_jobs=1, oob_score=False, random_state=None, verbose=0,\n",
      "            warm_start=False)\n",
      "Forest best score : 0.906738519785\n"
     ]
    }
   ],
   "source": [
    "from sklearn.ensemble import RandomForestClassifier\n",
    "\n",
    "param_grid = {'n_estimators':np.arange(3,11,2),\n",
    "              'max_depth':np.arange(3,6),\n",
    "              'min_weight_fraction_leaf':np.arange(0,0.4,0.1),\n",
    "              'criterion':['gini','entropy']}\n",
    "clf = RandomForestClassifier()\n",
    "forest_search = GridSearchCV(clf, param_grid, scoring='precision')\n",
    "\n",
    "forest_search.fit(X,Y)\n",
    "\n",
    "print(\"Forest best parameters :\",forest_search.best_params_)\n",
    "print(\"Forest best estimator :\",forest_search.best_estimator_ )\n",
    "print(\"Forest best score :\",forest_search.best_score_ )"
   ]
  },
  {
   "cell_type": "code",
   "execution_count": 33,
   "metadata": {},
   "outputs": [
    {
     "data": {
      "text/plain": [
       "RandomForestClassifier(bootstrap=True, class_weight=None, criterion='gini',\n",
       "            max_depth=3, max_features='auto', max_leaf_nodes=None,\n",
       "            min_impurity_split=1e-07, min_samples_leaf=1,\n",
       "            min_samples_split=2,\n",
       "            min_weight_fraction_leaf=0.30000000000000004, n_estimators=7,\n",
       "            n_jobs=1, oob_score=False, random_state=None, verbose=0,\n",
       "            warm_start=False)"
      ]
     },
     "execution_count": 33,
     "metadata": {},
     "output_type": "execute_result"
    }
   ],
   "source": [
    "\n",
    "clf_forest = RandomForestClassifier(**forest_search.best_params_)\n",
    "clf_forest.fit(X,Y)"
   ]
  },
  {
   "cell_type": "code",
   "execution_count": 35,
   "metadata": {},
   "outputs": [],
   "source": [
    "prediction_values_forest = clf_forest.predict(test_without_PId).astype(int)\n",
    "prediction_forest = pd.DataFrame({\"PassengerId\":tree_data[\"test\"][\"PassengerId\"],\n",
    "                           \"Survived\":prediction_values_forest})\n",
    "\n",
    "prediction_forest.to_csv(\"Titanic_tree_prediction_forest.csv\",index=False)"
   ]
  },
  {
   "cell_type": "markdown",
   "metadata": {},
   "source": [
    "### Performance evaluation"
   ]
  },
  {
   "cell_type": "code",
   "execution_count": 37,
   "metadata": {},
   "outputs": [
    {
     "name": "stdout",
     "output_type": "stream",
     "text": [
      "[[ 0.99038462  0.00961538]\n",
      " [ 0.54666667  0.45333333]]\n"
     ]
    },
    {
     "data": {
      "image/png": "[encoded data removed]",
      "text/plain": [
       "<matplotlib.figure.Figure at 0x18eea364400>"
      ]
     },
     "metadata": {},
     "output_type": "display_data"
    }
   ],
   "source": [
    "evaluation[\"forest\"] = clf_forest.predict(valid_without_PId).astype(int)\n",
    "\n",
    "cm[\"forest\"] = confusion_matrix(survival_from_data, evaluation[\"forest\"])\n",
    "cm[\"forest\"] = cm[\"forest\"].astype('float') / cm[\"forest\"].sum(axis=1)[:, np.newaxis]\n",
    "\n",
    "cm[\"forest\"]\n",
    "\n",
    "plot_confusion_matrix(cm[\"forest\"], classes=[\"No\",\"Yes\"], \n",
    "                      title='Normalized confusion matrix')"
   ]
  },
  {
   "cell_type": "markdown",
   "metadata": {},
   "source": [
    "### c) Naive Bayes"
   ]
  },
  {
   "cell_type": "code",
   "execution_count": 38,
   "metadata": {},
   "outputs": [
    {
     "data": {
      "text/plain": [
       "GaussianNB(priors=None)"
      ]
     },
     "execution_count": 38,
     "metadata": {},
     "output_type": "execute_result"
    }
   ],
   "source": [
    "from sklearn.naive_bayes import GaussianNB\n",
    "\n",
    "gnb = GaussianNB()\n",
    "gnb.fit(X, Y)\n",
    "\n"
   ]
  },
  {
   "cell_type": "markdown",
   "metadata": {},
   "source": [
    "### Performance evaluation"
   ]
  },
  {
   "cell_type": "code",
   "execution_count": 40,
   "metadata": {},
   "outputs": [
    {
     "name": "stdout",
     "output_type": "stream",
     "text": [
      "[[ 0.85576923  0.14423077]\n",
      " [ 0.29333333  0.70666667]]\n"
     ]
    },
    {
     "data": {
      "image/png": "[encoded data removed]",
      "text/plain": [
       "<matplotlib.figure.Figure at 0x18eea627550>"
      ]
     },
     "metadata": {},
     "output_type": "display_data"
    }
   ],
   "source": [
    "evaluation[\"NB\"] = gnb.predict(valid_without_PId).astype(int)\n",
    "\n",
    "cm[\"NB\"] = confusion_matrix(survival_from_data, evaluation[\"NB\"])\n",
    "cm[\"NB\"] = cm[\"NB\"].astype('float') / cm[\"NB\"].sum(axis=1)[:, np.newaxis]\n",
    "\n",
    "cm[\"NB\"]\n",
    "\n",
    "plot_confusion_matrix(cm[\"NB\"], classes=[\"No\",\"Yes\"], \n",
    "                      title='Normalized confusion matrix')"
   ]
  },
  {
   "cell_type": "code",
   "execution_count": 42,
   "metadata": {},
   "outputs": [],
   "source": [
    "prediction_values_NaiveBayes = gnb.predict(test_without_PId).astype(int)\n",
    "prediction_NaiveBayes = pd.DataFrame({\"PassengerId\":tree_data[\"test\"][\"PassengerId\"],\n",
    "                           \"Survived\":prediction_values_NaiveBayes})\n",
    "\n",
    "prediction_NaiveBayes.to_csv(\"Titanic_tree_prediction_NaiveBayes.csv\",index=False)"
   ]
  },
  {
   "cell_type": "markdown",
   "metadata": {},
   "source": [
    "### d) Support Vector Machines"
   ]
  },
  {
   "cell_type": "code",
   "execution_count": null,
   "metadata": {},
   "outputs": [],
   "source": [
    "from sklearn import svm\n",
    "\n",
    "param_grid = {'kernel':['linear', 'poly','sigmoid'],\n",
    "              'degree':[2,3]}\n",
    "\n",
    "clf_svm = svm.SVC()\n",
    "svm_search = GridSearchCV(clf_svm, param_grid)\n",
    "\n",
    "svm_search.fit(X,Y)\n",
    "\n",
    "print(\"Forest best parameters :\",svm_search.best_params_)\n",
    "print(\"Forest best estimator :\",svm_search.best_estimator_ )\n",
    "print(\"Forest best score :\",svm_search.best_score_ )\n",
    "\n"
   ]
  },
  {
   "cell_type": "markdown",
   "metadata": {},
   "source": [
    "### Performance evaluation"
   ]
  },
  {
   "cell_type": "code",
   "execution_count": null,
   "metadata": {
    "collapsed": true
   },
   "outputs": [],
   "source": [
    "evaluation[\"SVM\"] = gnb.predict(valid_without_PId).astype(int)\n",
    "\n",
    "cm[\"SVM\"] = confusion_matrix(survival_from_data, evaluation[\"SVM\"])\n",
    "cm[\"SVM\"] = cm[\"SVM\"].astype('float') / cm[\"SVM\"].sum(axis=1)[:, np.newaxis]\n",
    "\n",
    "cm[\"SVM\"]\n",
    "\n",
    "plot_confusion_matrix(cm[\"SVM\"], classes=[\"No\",\"Yes\"], \n",
    "                      title='Normalized confusion matrix')"
   ]
  },
  {
   "cell_type": "code",
   "execution_count": null,
   "metadata": {
    "collapsed": true
   },
   "outputs": [],
   "source": [
    "prediction_values_svm = clf_svm.predict(test_without_PId).astype(int)\n",
    "prediction_svm = pd.DataFrame({\"PassengerId\":tree_data[\"test\"][\"PassengerId\"],\n",
    "                           \"Survived\":prediction_values_svm})\n",
    "\n",
    "prediction_svm.to_csv(\"Titanic_tree_prediction_svm.csv\",index=False)"
   ]
  },
  {
   "cell_type": "markdown",
   "metadata": {},
   "source": [
    "### e) Logarythmic regression"
   ]
  },
  {
   "cell_type": "markdown",
   "metadata": {},
   "source": []
  },
  {
   "cell_type": "code",
   "execution_count": null,
   "metadata": {
    "collapsed": true
   },
   "outputs": [],
   "source": []
  },
  {
   "cell_type": "markdown",
   "metadata": {},
   "source": []
  },
  {
   "cell_type": "code",
   "execution_count": null,
   "metadata": {
    "collapsed": true
   },
   "outputs": [],
   "source": []
  },
  {
   "cell_type": "code",
   "execution_count": null,
   "metadata": {
    "collapsed": true
   },
   "outputs": [],
   "source": []
  }
 ],
 "metadata": {
  "kernelspec": {
   "display_name": "Python 3",
   "language": "python",
   "name": "python3"
  },
  "language_info": {
   "codemirror_mode": {
    "name": "ipython",
    "version": 3
   },
   "file_extension": ".py",
   "mimetype": "text/x-python",
   "name": "python",
   "nbconvert_exporter": "python",
   "pygments_lexer": "ipython3",
   "version": "3.6.1"
  }
 },
 "nbformat": 4,
 "nbformat_minor": 2
}
